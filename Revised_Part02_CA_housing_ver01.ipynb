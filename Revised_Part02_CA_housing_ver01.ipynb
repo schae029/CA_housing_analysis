{
 "cells": [
  {
   "cell_type": "markdown",
   "metadata": {},
   "source": [
    "# Part02: Survey of machine learning models for CA housing data"
   ]
  },
  {
   "cell_type": "markdown",
   "metadata": {},
   "source": [
    "In this chapter I survey a range of machine learning models, including ridge, support vector, random forest, and gradient boosting regression models.  I am interested in finding a \"best\" model for predicting median_house_value.\n",
    "\n",
    "The g03 linear model from Part01 had a comparative rmse score of \\\\$75,471; when predicting only for districts with a median_house_value < 500K, the error score drops to \\\\$55,832.  Most of the ML algorithms surveyed below should be able to beat these scores.\n",
    "\n"
   ]
  },
  {
   "cell_type": "code",
   "execution_count": 1,
   "metadata": {},
   "outputs": [
    {
     "data": {
      "text/plain": [
       "'/home/greg/Documents/stat/github_repos/CA_housing'"
      ]
     },
     "execution_count": 1,
     "metadata": {},
     "output_type": "execute_result"
    }
   ],
   "source": [
    "import os\n",
    "\n",
    "os.getcwd()\n"
   ]
  },
  {
   "cell_type": "code",
   "execution_count": 2,
   "metadata": {},
   "outputs": [],
   "source": [
    "import numpy as np\n",
    "import pandas as pd\n",
    "\n",
    "%matplotlib inline  \n",
    "                    \n",
    "import matplotlib as mpl\n",
    "import matplotlib.pyplot as plt\n"
   ]
  },
  {
   "cell_type": "code",
   "execution_count": 3,
   "metadata": {},
   "outputs": [],
   "source": [
    "# Ignore useless warnings (see SciPy issue #5998)\n",
    "\n",
    "import warnings\n",
    "warnings.filterwarnings(action=\"ignore\", message=\"^internal gelsd\")\n"
   ]
  },
  {
   "cell_type": "markdown",
   "metadata": {},
   "source": [
    "### Load training and test sets created in Part01"
   ]
  },
  {
   "cell_type": "code",
   "execution_count": 4,
   "metadata": {},
   "outputs": [
    {
     "name": "stdout",
     "output_type": "stream",
     "text": [
      "(16482, 16)\n",
      "(4121, 16)\n"
     ]
    }
   ],
   "source": [
    "train = pd.read_csv('/home/greg/Documents/stat/Geron_ML/datasets/housing/train_revised_27JUN2021.csv',\n",
    "                    index_col=0)\n",
    "\n",
    "test = pd.read_csv('/home/greg/Documents/stat/Geron_ML/datasets/housing/test_revised_27JUN2021.csv',\n",
    "                   index_col=0)\n",
    "\n",
    "print(train.shape)\n",
    "print(test.shape)\n"
   ]
  },
  {
   "cell_type": "code",
   "execution_count": 17,
   "metadata": {},
   "outputs": [
    {
     "data": {
      "text/html": [
       "<div>\n",
       "<style scoped>\n",
       "    .dataframe tbody tr th:only-of-type {\n",
       "        vertical-align: middle;\n",
       "    }\n",
       "\n",
       "    .dataframe tbody tr th {\n",
       "        vertical-align: top;\n",
       "    }\n",
       "\n",
       "    .dataframe thead th {\n",
       "        text-align: right;\n",
       "    }\n",
       "</style>\n",
       "<table border=\"1\" class=\"dataframe\">\n",
       "  <thead>\n",
       "    <tr style=\"text-align: right;\">\n",
       "      <th></th>\n",
       "      <th>longitude</th>\n",
       "      <th>latitude</th>\n",
       "      <th>housing_median_age</th>\n",
       "      <th>total_rooms</th>\n",
       "      <th>total_bedrooms</th>\n",
       "      <th>population</th>\n",
       "      <th>households</th>\n",
       "      <th>median_income</th>\n",
       "      <th>median_house_value</th>\n",
       "      <th>ocean_proximity</th>\n",
       "      <th>rooms_per_hh</th>\n",
       "      <th>bdrms_per_room</th>\n",
       "      <th>pop_per_hh</th>\n",
       "      <th>HHdens_ln</th>\n",
       "      <th>long_transf</th>\n",
       "      <th>income_cat</th>\n",
       "    </tr>\n",
       "  </thead>\n",
       "  <tbody>\n",
       "    <tr>\n",
       "      <th>334</th>\n",
       "      <td>-122.17</td>\n",
       "      <td>37.74</td>\n",
       "      <td>43.0</td>\n",
       "      <td>818</td>\n",
       "      <td>193</td>\n",
       "      <td>494</td>\n",
       "      <td>179</td>\n",
       "      <td>2.4776</td>\n",
       "      <td>101600.0</td>\n",
       "      <td>NEAR BAY</td>\n",
       "      <td>4.569832</td>\n",
       "      <td>0.235941</td>\n",
       "      <td>2.759777</td>\n",
       "      <td>8.218130</td>\n",
       "      <td>3.460750</td>\n",
       "      <td>2</td>\n",
       "    </tr>\n",
       "    <tr>\n",
       "      <th>1662</th>\n",
       "      <td>-121.94</td>\n",
       "      <td>37.93</td>\n",
       "      <td>16.0</td>\n",
       "      <td>3421</td>\n",
       "      <td>427</td>\n",
       "      <td>1341</td>\n",
       "      <td>428</td>\n",
       "      <td>7.5695</td>\n",
       "      <td>320400.0</td>\n",
       "      <td>INLAND</td>\n",
       "      <td>7.992991</td>\n",
       "      <td>0.124817</td>\n",
       "      <td>3.133178</td>\n",
       "      <td>7.176395</td>\n",
       "      <td>3.897225</td>\n",
       "      <td>5</td>\n",
       "    </tr>\n",
       "    <tr>\n",
       "      <th>8781</th>\n",
       "      <td>-118.32</td>\n",
       "      <td>33.79</td>\n",
       "      <td>35.0</td>\n",
       "      <td>2924</td>\n",
       "      <td>658</td>\n",
       "      <td>1675</td>\n",
       "      <td>602</td>\n",
       "      <td>3.8287</td>\n",
       "      <td>279900.0</td>\n",
       "      <td>OCEAN</td>\n",
       "      <td>4.857143</td>\n",
       "      <td>0.225034</td>\n",
       "      <td>2.782392</td>\n",
       "      <td>8.339524</td>\n",
       "      <td>3.018262</td>\n",
       "      <td>3</td>\n",
       "    </tr>\n",
       "    <tr>\n",
       "      <th>9392</th>\n",
       "      <td>-122.54</td>\n",
       "      <td>37.90</td>\n",
       "      <td>48.0</td>\n",
       "      <td>2491</td>\n",
       "      <td>460</td>\n",
       "      <td>937</td>\n",
       "      <td>455</td>\n",
       "      <td>4.4375</td>\n",
       "      <td>370000.0</td>\n",
       "      <td>NEAR BAY</td>\n",
       "      <td>5.474725</td>\n",
       "      <td>0.184665</td>\n",
       "      <td>2.059341</td>\n",
       "      <td>7.156191</td>\n",
       "      <td>3.264623</td>\n",
       "      <td>3</td>\n",
       "    </tr>\n",
       "    <tr>\n",
       "      <th>10706</th>\n",
       "      <td>-117.72</td>\n",
       "      <td>33.61</td>\n",
       "      <td>26.0</td>\n",
       "      <td>2033</td>\n",
       "      <td>463</td>\n",
       "      <td>618</td>\n",
       "      <td>450</td>\n",
       "      <td>2.5685</td>\n",
       "      <td>80400.0</td>\n",
       "      <td>OCEAN</td>\n",
       "      <td>4.517778</td>\n",
       "      <td>0.227742</td>\n",
       "      <td>1.373333</td>\n",
       "      <td>8.697871</td>\n",
       "      <td>3.422655</td>\n",
       "      <td>2</td>\n",
       "    </tr>\n",
       "  </tbody>\n",
       "</table>\n",
       "</div>"
      ],
      "text/plain": [
       "       longitude  latitude  housing_median_age  total_rooms  total_bedrooms  \\\n",
       "334      -122.17     37.74                43.0          818             193   \n",
       "1662     -121.94     37.93                16.0         3421             427   \n",
       "8781     -118.32     33.79                35.0         2924             658   \n",
       "9392     -122.54     37.90                48.0         2491             460   \n",
       "10706    -117.72     33.61                26.0         2033             463   \n",
       "\n",
       "       population  households  median_income  median_house_value  \\\n",
       "334           494         179         2.4776            101600.0   \n",
       "1662         1341         428         7.5695            320400.0   \n",
       "8781         1675         602         3.8287            279900.0   \n",
       "9392          937         455         4.4375            370000.0   \n",
       "10706         618         450         2.5685             80400.0   \n",
       "\n",
       "      ocean_proximity  rooms_per_hh  bdrms_per_room  pop_per_hh  HHdens_ln  \\\n",
       "334          NEAR BAY      4.569832        0.235941    2.759777   8.218130   \n",
       "1662           INLAND      7.992991        0.124817    3.133178   7.176395   \n",
       "8781            OCEAN      4.857143        0.225034    2.782392   8.339524   \n",
       "9392         NEAR BAY      5.474725        0.184665    2.059341   7.156191   \n",
       "10706           OCEAN      4.517778        0.227742    1.373333   8.697871   \n",
       "\n",
       "       long_transf  income_cat  \n",
       "334       3.460750           2  \n",
       "1662      3.897225           5  \n",
       "8781      3.018262           3  \n",
       "9392      3.264623           3  \n",
       "10706     3.422655           2  "
      ]
     },
     "execution_count": 17,
     "metadata": {},
     "output_type": "execute_result"
    }
   ],
   "source": [
    "train.head()\n"
   ]
  },
  {
   "cell_type": "code",
   "execution_count": 5,
   "metadata": {},
   "outputs": [
    {
     "name": "stdout",
     "output_type": "stream",
     "text": [
      "(16482,)\n",
      "(16482, 13)\n"
     ]
    }
   ],
   "source": [
    "# Remove income_cat and longitude.  Longitude has been mapped\n",
    "# to long_transf.\n",
    "\n",
    "y_train = train['median_house_value'].copy()\n",
    "X_train = train[['housing_median_age','total_rooms','total_bedrooms',\n",
    "                 'population','households','median_income',\n",
    "                 'ocean_proximity','rooms_per_hh','bdrms_per_room',\n",
    "                 'pop_per_hh','HHdens_ln','long_transf','latitude']].copy()\n",
    "print(y_train.shape)\n",
    "print(X_train.shape)\n"
   ]
  },
  {
   "cell_type": "code",
   "execution_count": 19,
   "metadata": {},
   "outputs": [
    {
     "data": {
      "text/plain": [
       "pandas.core.series.Series"
      ]
     },
     "execution_count": 19,
     "metadata": {},
     "output_type": "execute_result"
    }
   ],
   "source": [
    "y_train.__class__\n"
   ]
  },
  {
   "cell_type": "code",
   "execution_count": 20,
   "metadata": {},
   "outputs": [
    {
     "data": {
      "text/plain": [
       "OCEAN         7338\n",
       "INLAND        5187\n",
       "NEAR OCEAN    2137\n",
       "NEAR BAY      1820\n",
       "Name: ocean_proximity, dtype: int64"
      ]
     },
     "execution_count": 20,
     "metadata": {},
     "output_type": "execute_result"
    }
   ],
   "source": [
    "# Recall that we removed the 'ISLAND' records since there \n",
    "# were only 5 in the entire 20.64K dataset. \n",
    "pd.value_counts(X_train['ocean_proximity'])\n"
   ]
  },
  {
   "cell_type": "code",
   "execution_count": 6,
   "metadata": {},
   "outputs": [
    {
     "name": "stdout",
     "output_type": "stream",
     "text": [
      "(4121,)\n",
      "(4121, 13)\n"
     ]
    }
   ],
   "source": [
    "y_test = test['median_house_value'].copy()\n",
    "y_test.name = 'median_house_value'\n",
    "X_test = test[['housing_median_age','total_rooms','total_bedrooms',\n",
    "                 'population','households','median_income',\n",
    "                 'ocean_proximity','rooms_per_hh','bdrms_per_room',\n",
    "                 'pop_per_hh','HHdens_ln','long_transf','latitude']].copy()\n",
    "print(y_test.shape)\n",
    "print(X_test.shape)\n"
   ]
  },
  {
   "cell_type": "code",
   "execution_count": 23,
   "metadata": {},
   "outputs": [
    {
     "data": {
      "text/plain": [
       "count      4121.0\n",
       "mean     210578.0\n",
       "std      130124.0\n",
       "min       22500.0\n",
       "25%      118200.0\n",
       "50%      178800.0\n",
       "75%      262300.0\n",
       "max      777151.0\n",
       "Name: median_house_value, dtype: float64"
      ]
     },
     "execution_count": 23,
     "metadata": {},
     "output_type": "execute_result"
    }
   ],
   "source": [
    "# The training set and test data have median house values > 500K.\n",
    "# In other words, we are working with about 4.8% imputed data\n",
    "# for this variable.\n",
    "\n",
    "round(y_test.describe())\n"
   ]
  },
  {
   "cell_type": "markdown",
   "metadata": {},
   "source": [
    "### Plot of age vs median_house_value"
   ]
  },
  {
   "cell_type": "code",
   "execution_count": 58,
   "metadata": {},
   "outputs": [
    {
     "name": "stdout",
     "output_type": "stream",
     "text": [
      "(1011, 16)\n",
      "Median:  261500.0\n",
      "Mean:    292187\n"
     ]
    }
   ],
   "source": [
    "df_GE52 = train[train.housing_median_age >= 52]\n",
    "print(df_GE52.shape)\n",
    "print(\"Median:  \" + str(df_GE52.median_house_value.describe()['50%']))\n",
    "print(\"Mean:    \" + str(round(df_GE52.median_house_value.describe()['mean'])))\n"
   ]
  },
  {
   "cell_type": "code",
   "execution_count": 59,
   "metadata": {},
   "outputs": [
    {
     "name": "stdout",
     "output_type": "stream",
     "text": [
      "Median:  176500.0\n",
      "Mean:    207439\n"
     ]
    }
   ],
   "source": [
    "df_LT52 = train[train.housing_median_age < 52]\n",
    "print(\"Median:  \" + str(df_LT52.median_house_value.describe()['50%']))\n",
    "print(\"Mean:    \" + str(round(df_LT52.median_house_value.describe()['mean'])))\n"
   ]
  },
  {
   "cell_type": "code",
   "execution_count": 54,
   "metadata": {},
   "outputs": [
    {
     "data": {
      "image/png": "[encoded data removed]",
      "text/plain": [
       "<Figure size 432x288 with 1 Axes>"
      ]
     },
     "metadata": {
      "needs_background": "light"
     },
     "output_type": "display_data"
    }
   ],
   "source": [
    "# There is some differentiation of median house value by age.\n",
    "# The medians differ by 85K.  The means differ by 85K.\n",
    "\n",
    "plt.hist(round(df_LT52.median_house_value / 1000), bins=100, \n",
    "         density=True, color='lightgrey', label='< 52yrs')\n",
    "plt.hist(round(df_GE52.median_house_value / 1000), bins=100, \n",
    "         density=True, color='cyan', label='>= 52yrs', alpha=0.3)\n",
    "plt.legend();\n"
   ]
  },
  {
   "cell_type": "markdown",
   "metadata": {},
   "source": [
    "### Load some of the functions we will need"
   ]
  },
  {
   "cell_type": "code",
   "execution_count": 7,
   "metadata": {},
   "outputs": [],
   "source": [
    "\n",
    "from sklearn.compose import ColumnTransformer\n",
    "from sklearn.pipeline import Pipeline, make_pipeline\n",
    "from sklearn.preprocessing import StandardScaler, MinMaxScaler, RobustScaler\n",
    "from sklearn.preprocessing import PolynomialFeatures, OneHotEncoder\n",
    "from sklearn.model_selection import cross_val_score, GridSearchCV\n",
    "from sklearn.metrics import mean_squared_error\n",
    "\n"
   ]
  },
  {
   "cell_type": "code",
   "execution_count": 8,
   "metadata": {},
   "outputs": [
    {
     "name": "stdout",
     "output_type": "stream",
     "text": [
      "['housing_median_age', 'total_rooms', 'total_bedrooms', 'population', 'households', 'median_income', 'rooms_per_hh', 'bdrms_per_room', 'pop_per_hh', 'HHdens_ln', 'long_transf', 'latitude']\n"
     ]
    }
   ],
   "source": [
    "# Distinguish between the numerical and categorical features.\n",
    "# We will use this distinction in some of the pipelines below.\n",
    "\n",
    "num_attribs = list(X_train.drop([\"ocean_proximity\"], axis=1).columns)\n",
    "cat_attribs = [\"ocean_proximity\"]\n",
    "print(num_attribs)\n",
    "\n",
    "# There are 13 attributes altogether, excluding the response variable.\n",
    "\n",
    "# Population and households have a very high positive correlation.\n",
    "# Both are highly correlated with total_rooms and total_bedrooms.\n"
   ]
  },
  {
   "cell_type": "code",
   "execution_count": 8,
   "metadata": {},
   "outputs": [],
   "source": [
    "# This function is useful for displaying scores from cross_val_score.\n",
    "\n",
    "def display_scores(scores):\n",
    "    print(\"Mean: \", round(scores.mean(), 0))\n",
    "    print(\"StdDev: \", round(scores.std(), 0))\n",
    "    "
   ]
  },
  {
   "cell_type": "code",
   "execution_count": 9,
   "metadata": {},
   "outputs": [],
   "source": [
    "# Function to obtain comparative rmse scores.  For most scores\n",
    "# I average scores from 500 samples of the testset data, each\n",
    "# sample having 1000 records.\n",
    "\n",
    "def get_rmse(seedv, dat):\n",
    "    \n",
    "    # dat needs to also have median_house_value as a column.\n",
    "    n_rcds = 1000\n",
    "    seedv_len = len(seedv)\n",
    "    vout = np.zeros(seedv_len)\n",
    "    \n",
    "    for i, seed in enumerate(seedv):\n",
    "        \n",
    "        df = dat.sample(n=n_rcds, replace=False, random_state=seed, axis=0)\n",
    "        y_df = df[\"median_house_value\"].copy()\n",
    "        df.drop([\"median_house_value\"], inplace=True, axis=1)\n",
    "        test_score = grid.score(df, y_df)\n",
    "        vout[i] = np.power(-test_score, 0.5)\n",
    "    \n",
    "    # print(np.round(vout[:10]))\n",
    "    # print(vout[vout < 50000])\n",
    "    return round(np.mean(vout[i]))\n",
    "    "
   ]
  },
  {
   "cell_type": "code",
   "execution_count": null,
   "metadata": {},
   "outputs": [],
   "source": []
  },
  {
   "cell_type": "markdown",
   "metadata": {},
   "source": [
    "# Section 1: ML linear models: OLS, ridge, and lasso"
   ]
  },
  {
   "cell_type": "markdown",
   "metadata": {},
   "source": [
    "For most of the linear models that follow, I use only the 6 predictors used in the g03 model of Part01.  The work done in Part01 shows that we are likely to get better linear models using only median_income, long_transf, latitude, pop_per_hh, housing_median_age, and HHdens_ln.\n"
   ]
  },
  {
   "cell_type": "markdown",
   "metadata": {},
   "source": [
    "## OLS model"
   ]
  },
  {
   "cell_type": "code",
   "execution_count": 10,
   "metadata": {},
   "outputs": [],
   "source": [
    "X_train_6preds = X_train[['median_income','long_transf','latitude',\n",
    "                          'pop_per_hh','HHdens_ln','housing_median_age']].copy()\n",
    "\n",
    "X_test_6preds = X_test[['median_income','long_transf','latitude',\n",
    "                          'pop_per_hh','HHdens_ln','housing_median_age']].copy()\n"
   ]
  },
  {
   "cell_type": "code",
   "execution_count": 15,
   "metadata": {},
   "outputs": [],
   "source": [
    "from sklearn.linear_model import LinearRegression, Ridge, Lasso, ElasticNet\n"
   ]
  },
  {
   "cell_type": "code",
   "execution_count": 46,
   "metadata": {},
   "outputs": [
    {
     "name": "stdout",
     "output_type": "stream",
     "text": [
      "Mean:  79297.0\n",
      "StdDev:  2650.0\n"
     ]
    }
   ],
   "source": [
    "# A simple regression with the 6 predictors.\n",
    "\n",
    "lin_reg_cv_scores = cross_val_score(LinearRegression(), X_train_6preds, y_train, \n",
    "                                    scoring=\"neg_mean_squared_error\",\n",
    "                                    cv=10, n_jobs=10)\n",
    "\n",
    "lin_reg_scores = np.sqrt(-lin_reg_cv_scores)\n",
    "display_scores(lin_reg_scores)\n"
   ]
  },
  {
   "cell_type": "code",
   "execution_count": 47,
   "metadata": {},
   "outputs": [],
   "source": [
    "# Here I apply the scaler AFTER the polynomial transformations.  \n",
    "# The order matters for the scaler that is chosen in the grid\n",
    "# search.  (Typically I apply the scaler first.)\n",
    "\n",
    "pipe = Pipeline([('poly', PolynomialFeatures()), \n",
    "                 ('scaler', MinMaxScaler()),\n",
    "                 ('model', LinearRegression())])\n"
   ]
  },
  {
   "cell_type": "code",
   "execution_count": 48,
   "metadata": {},
   "outputs": [],
   "source": [
    "# A parameter grid for LinearRegression().\n",
    "\n",
    "param_grid = {'poly__degree': [1,2,3], \n",
    "              'scaler': [StandardScaler(), MinMaxScaler(),\n",
    "                         None, RobustScaler()]}\n"
   ]
  },
  {
   "cell_type": "code",
   "execution_count": 49,
   "metadata": {},
   "outputs": [
    {
     "data": {
      "text/plain": [
       "{'poly__degree': 3, 'scaler': None}"
      ]
     },
     "execution_count": 49,
     "metadata": {},
     "output_type": "execute_result"
    }
   ],
   "source": [
    "grid = GridSearchCV(pipe, param_grid, cv=10, scoring='neg_mean_squared_error', n_jobs=10)\n",
    "grid.fit(X_train_6preds, y_train)\n",
    "\n",
    "grid.best_params_\n",
    "# {'poly__degree': 3, 'scaler': None}\n"
   ]
  },
  {
   "cell_type": "code",
   "execution_count": 50,
   "metadata": {},
   "outputs": [
    {
     "name": "stdout",
     "output_type": "stream",
     "text": [
      "Best cross-validation score: 68141\n",
      "Test-set score: 66259\n"
     ]
    }
   ],
   "source": [
    "# Get scores from the best model.\n",
    "\n",
    "best_score = np.power(-grid.best_score_, 0.5)\n",
    "test_score = grid.score(X_test_6preds, y_test)\n",
    "test_score = np.power(-test_score, 0.5)\n",
    "\n",
    "print(\"Best cross-validation score: {:.0f}\".format(best_score))\n",
    "print(\"Test-set score: {:.0f}\".format(test_score))\n",
    "#  Best cross-validation score: 68,141\n",
    "#  Test-set score: 66,259    \n",
    "\n",
    "# These scores are much better than what we saw for the g03 model in Part01.\n",
    "# This model is much more complex though, with 84 terms (g03 has 15 terms).\n"
   ]
  },
  {
   "cell_type": "code",
   "execution_count": null,
   "metadata": {},
   "outputs": [],
   "source": [
    "### COMMENTS:\n",
    "\n",
    "# In this instance the grid search returns the same values \n",
    "# if we apply the scaler prior to the polynomial transformation.\n"
   ]
  },
  {
   "cell_type": "markdown",
   "metadata": {},
   "source": [
    "### Get comparative score for the OLS model"
   ]
  },
  {
   "cell_type": "markdown",
   "metadata": {},
   "source": [
    "For consistency, I apply a procedure similar to what I used at the end of Part01.  I take 500 1000-record samples from the testset data and compute an rmse score for each.  I then take the average of these 500 scores."
   ]
  },
  {
   "cell_type": "code",
   "execution_count": 78,
   "metadata": {},
   "outputs": [
    {
     "name": "stdout",
     "output_type": "stream",
     "text": [
      "Comparative rmse score for ML OLS model:  $61,151\n"
     ]
    }
   ],
   "source": [
    "# The following is a score for all test districts.\n",
    "\n",
    "testdat = X_test_6preds.join(y_test)\n",
    "\n",
    "seed_choices = np.arange(start=1000, stop=21000, dtype=int)\n",
    "np.random.seed(4321)\n",
    "smp = np.random.choice(seed_choices, size=500, replace=False)\n",
    "\n",
    "OLS_rmse = get_rmse(smp, testdat)\n",
    "\n",
    "print(\"Comparative rmse score for ML OLS model:  \" + '$' +\n",
    "      f'{OLS_rmse:,.0f}')\n",
    "\n",
    "# $61,151\n",
    "\n",
    "# For the g03 model of Part01, this score was 75.5K.\n"
   ]
  },
  {
   "cell_type": "code",
   "execution_count": 79,
   "metadata": {},
   "outputs": [
    {
     "name": "stdout",
     "output_type": "stream",
     "text": [
      "Comparative rmse score for ML OLS model when median house value < 500K:  $57,448\n"
     ]
    }
   ],
   "source": [
    "# The following is a score for districts with a median_house_value < 500K.\n",
    "\n",
    "testdat2 = testdat[testdat.median_house_value < 500000].copy()\n",
    "\n",
    "OLS_rmse = get_rmse(smp, testdat2)\n",
    "\n",
    "print(\"Comparative rmse score for ML OLS model when median house value < 500K:  \" + '$' +\n",
    "      f'{OLS_rmse:,.0f}')\n",
    "\n",
    "# $57,448\n",
    "\n",
    "# For the g03 model in Part01, this score was 55.8K.\n"
   ]
  },
  {
   "cell_type": "code",
   "execution_count": 82,
   "metadata": {},
   "outputs": [
    {
     "name": "stdout",
     "output_type": "stream",
     "text": [
      "(3924, 7)\n",
      "(4121, 7)\n"
     ]
    }
   ],
   "source": [
    "# The difference between the 2 testsets is about 200 records.\n",
    "\n",
    "print(testdat2.shape)\n",
    "print(testdat.shape)\n"
   ]
  },
  {
   "cell_type": "markdown",
   "metadata": {},
   "source": [
    "### OLS Comments"
   ]
  },
  {
   "cell_type": "markdown",
   "metadata": {},
   "source": [
    "The score on 500 samples from the test set data is much lower than what we saw with the g03 model of Part01.  g03's score was 75.5K.  The delta is about 14.4K.\n",
    "\n",
    "But if we limit the test districts to those with a median house value < 500K, the g03 model out-performs the ML OLS model by 1.6K.\n",
    "\n",
    "\n",
    "**OLS best score on test set:**  **61,151**\n"
   ]
  },
  {
   "cell_type": "markdown",
   "metadata": {},
   "source": [
    "## Ridge model"
   ]
  },
  {
   "cell_type": "code",
   "execution_count": 83,
   "metadata": {},
   "outputs": [],
   "source": [
    "# Here the scaling is done first.\n",
    "\n",
    "pipe = Pipeline([('scaler', MinMaxScaler()),\n",
    "                 ('poly', PolynomialFeatures()), \n",
    "                 ('model', Ridge())])\n"
   ]
  },
  {
   "cell_type": "code",
   "execution_count": 11,
   "metadata": {},
   "outputs": [],
   "source": [
    "# Keep track of the computing time.\n",
    "\n",
    "from datetime import datetime\n"
   ]
  },
  {
   "cell_type": "code",
   "execution_count": 85,
   "metadata": {},
   "outputs": [
    {
     "name": "stdout",
     "output_type": "stream",
     "text": [
      "Time difference of 0.05 minutes\n"
     ]
    },
    {
     "data": {
      "text/plain": [
       "{'model__alpha': 0.01, 'poly__degree': 4}"
      ]
     },
     "execution_count": 85,
     "metadata": {},
     "output_type": "execute_result"
    }
   ],
   "source": [
    "# Parameter grid for Ridge():\n",
    "\n",
    "# Increasing the alpha parameter \"regularizes\" the coefficients \n",
    "# toward zero (L2 norm), which can improve the generalizability\n",
    "# of the model.\n",
    "param_grid = {'poly__degree': [1,2,3,4], \n",
    "              'model__alpha': list((0.01, 0.1, 1.0, 10) + tuple(range(50, 250, 50)))}\n",
    "\n",
    "start_time = datetime.now()\n",
    "grid = GridSearchCV(pipe, param_grid, cv=10, scoring='neg_mean_squared_error', n_jobs=10)\n",
    "grid.fit(X_train_6preds, y_train)\n",
    "stop_time = datetime.now()\n",
    "delta = stop_time - start_time\n",
    "timeval = round(delta.seconds/60, 2)\n",
    "print(\"Time difference of \" + str(timeval) + \" minutes\")\n",
    "# Time difference of 0.05 minutes\n",
    "\n",
    "grid.best_params_\n",
    "# {'model__alpha': 0.01, 'poly__degree': 4}\n"
   ]
  },
  {
   "cell_type": "code",
   "execution_count": 86,
   "metadata": {},
   "outputs": [
    {
     "name": "stdout",
     "output_type": "stream",
     "text": [
      "Best cross-validation score: 66522\n",
      "Test-set score: 64453\n"
     ]
    }
   ],
   "source": [
    "# Get scores from the best model.\n",
    "\n",
    "best_score = np.power(-grid.best_score_, 0.5)\n",
    "test_score = grid.score(X_test_6preds, y_test)\n",
    "test_score = np.power(-test_score, 0.5)\n",
    "\n",
    "print(\"Best cross-validation score: {:.0f}\".format(best_score))\n",
    "print(\"Test-set score: {:.0f}\".format(test_score))\n",
    "#  Best cross-validation score: 66.5K\n",
    "#  Test-set score: 64.5K\n"
   ]
  },
  {
   "cell_type": "code",
   "execution_count": 33,
   "metadata": {},
   "outputs": [],
   "source": [
    "# Have the scaler follow the polynomial transformations.\n",
    "\n",
    "pipe = Pipeline([('poly', PolynomialFeatures()),\n",
    "                 ('scaler', MinMaxScaler()),\n",
    "                 ('model', Ridge())])\n"
   ]
  },
  {
   "cell_type": "code",
   "execution_count": 88,
   "metadata": {},
   "outputs": [
    {
     "name": "stdout",
     "output_type": "stream",
     "text": [
      "Time difference of 0.1 minutes\n"
     ]
    },
    {
     "data": {
      "text/plain": [
       "{'model__alpha': 0.01, 'poly__degree': 4, 'scaler': MinMaxScaler()}"
      ]
     },
     "execution_count": 88,
     "metadata": {},
     "output_type": "execute_result"
    }
   ],
   "source": [
    "\n",
    "param_grid = {'poly__degree': [1,2,3,4], 'scaler': [StandardScaler(), MinMaxScaler(), \n",
    "                                                    RobustScaler()],\n",
    "              'model__alpha': list((0.01, 0.02, 0.04, 0.06, 0.08, 0.1, 1.0, 10))}\n",
    "\n",
    "start_time = datetime.now()\n",
    "grid = GridSearchCV(pipe, param_grid, cv=10, scoring='neg_mean_squared_error', n_jobs=10)\n",
    "grid.fit(X_train_6preds, y_train)\n",
    "stop_time = datetime.now()\n",
    "delta = stop_time - start_time\n",
    "timeval = round(delta.seconds/60, 2)\n",
    "print(\"Time difference of \" + str(timeval) + \" minutes\")\n",
    "# Time difference of 0.1 minutes\n",
    "\n",
    "grid.best_params_\n",
    "# {'model__alpha': 0.01, 'poly__degree': 4, 'scaler': MinMaxScaler()}\n"
   ]
  },
  {
   "cell_type": "code",
   "execution_count": 89,
   "metadata": {},
   "outputs": [
    {
     "name": "stdout",
     "output_type": "stream",
     "text": [
      "Best cross-validation score: 66522\n",
      "Test-set score: 64453\n"
     ]
    }
   ],
   "source": [
    "# Get scores from the best model.\n",
    "\n",
    "best_score = np.power(-grid.best_score_, 0.5)\n",
    "test_score = grid.score(X_test_6preds, y_test)\n",
    "test_score = np.power(-test_score, 0.5)\n",
    "\n",
    "print(\"Best cross-validation score: {:.0f}\".format(best_score))\n",
    "print(\"Test-set score: {:.0f}\".format(test_score))\n",
    "#  Best cross-validation score: 66.5K\n",
    "#  Test-set score: 64.4K\n"
   ]
  },
  {
   "cell_type": "code",
   "execution_count": 73,
   "metadata": {},
   "outputs": [],
   "source": [
    "pipe = Pipeline([('scaler', MinMaxScaler()),\n",
    "                 ('poly', PolynomialFeatures()), \n",
    "                 ('model', Ridge())])\n"
   ]
  },
  {
   "cell_type": "code",
   "execution_count": 90,
   "metadata": {},
   "outputs": [
    {
     "name": "stdout",
     "output_type": "stream",
     "text": [
      "Time difference of 0.1 minutes\n"
     ]
    },
    {
     "data": {
      "text/plain": [
       "{'model__alpha': 0.01, 'poly__degree': 4, 'scaler': MinMaxScaler()}"
      ]
     },
     "execution_count": 90,
     "metadata": {},
     "output_type": "execute_result"
    }
   ],
   "source": [
    "# This repeats what we first did above for Ridge, but the\n",
    "# search grid now extends over different scalers.\n",
    "\n",
    "param_grid = {'poly__degree': [1,2,3,4], 'scaler': [StandardScaler(), MinMaxScaler(), \n",
    "                                                    RobustScaler()],\n",
    "              'model__alpha': [0.01, 0.02, 0.04, 0.06, 0.08, 0.1, 1.0, 10]}\n",
    "\n",
    "start_time = datetime.now()\n",
    "grid = GridSearchCV(pipe, param_grid, cv=10, scoring='neg_mean_squared_error', n_jobs=10)\n",
    "grid.fit(X_train_6preds, y_train)\n",
    "stop_time = datetime.now()\n",
    "delta = stop_time - start_time\n",
    "timeval = round(delta.seconds/60, 2)\n",
    "print(\"Time difference of \" + str(timeval) + \" minutes\")\n",
    "# Time difference of 0.1 minutes\n",
    "\n",
    "grid.best_params_\n",
    "# {'model__alpha': 0.01, 'poly__degree': 4, 'scaler': MinMaxScaler()}\n"
   ]
  },
  {
   "cell_type": "code",
   "execution_count": 91,
   "metadata": {},
   "outputs": [
    {
     "name": "stdout",
     "output_type": "stream",
     "text": [
      "Best cross-validation score: 66522\n",
      "Test-set score: 64453\n"
     ]
    }
   ],
   "source": [
    "# Get scores from the best model.\n",
    "\n",
    "best_score = np.power(-grid.best_score_, 0.5)\n",
    "test_score = grid.score(X_test_6preds, y_test)\n",
    "test_score = np.power(-test_score, 0.5)\n",
    "\n",
    "print(\"Best cross-validation score: {:.0f}\".format(best_score))\n",
    "print(\"Test-set score: {:.0f}\".format(test_score))\n",
    "#  Best cross-validation score: 66.5K\n",
    "#  Test-set score: 64.5K\n"
   ]
  },
  {
   "cell_type": "markdown",
   "metadata": {},
   "source": [
    "### Get comparative score for the Ridge model"
   ]
  },
  {
   "cell_type": "code",
   "execution_count": 93,
   "metadata": {},
   "outputs": [
    {
     "name": "stdout",
     "output_type": "stream",
     "text": [
      "Comparative rmse score for the Ridge model:  $59,851\n"
     ]
    }
   ],
   "source": [
    "# The following is a score for all test districts.\n",
    "\n",
    "testdat = X_test_6preds.join(y_test)\n",
    "\n",
    "seed_choices = np.arange(start=1000, stop=21000, dtype=int)\n",
    "np.random.seed(4321)\n",
    "smp = np.random.choice(seed_choices, size=500, replace=False)\n",
    "\n",
    "rmse_score = get_rmse(smp, testdat)\n",
    "\n",
    "print(\"Comparative rmse score for the Ridge model:  \" + '$' +\n",
    "      f'{rmse_score:,.0f}')\n",
    "\n",
    "# $59,851\n",
    "\n",
    "# For the g03 model of Part01, this score was 75.5K.\n",
    "\n",
    "# The ML OLS model's score was: $61,151\n"
   ]
  },
  {
   "cell_type": "code",
   "execution_count": 94,
   "metadata": {},
   "outputs": [
    {
     "name": "stdout",
     "output_type": "stream",
     "text": [
      "Comparative rmse score for the Ridge model when median house value < 500K:  $55,282\n"
     ]
    }
   ],
   "source": [
    "# The following is a score for districts with a median_house_value < 500K.\n",
    "\n",
    "testdat2 = testdat[testdat.median_house_value < 500000].copy()\n",
    "\n",
    "rmse_score = get_rmse(smp, testdat2)\n",
    "\n",
    "print(\"Comparative rmse score for the Ridge model when median house value < 500K:  \" + '$' +\n",
    "      f'{rmse_score:,.0f}')\n",
    "\n",
    "# $55,282\n",
    "\n",
    "# For the g03 model in Part01, this score was 55.8K.\n",
    "\n",
    "# For the ML OLS model, the score was 57.5K.\n"
   ]
  },
  {
   "cell_type": "markdown",
   "metadata": {},
   "source": [
    "### Comments on Ridge model using only the 6 predictors of the g03 model"
   ]
  },
  {
   "cell_type": "markdown",
   "metadata": {},
   "source": [
    "Thus far, our best predictive model is the ridge regression.\n",
    "\n",
    "\n",
    "**Ridge model *tentative* best score on test set:** **59.9K**\n",
    "\n"
   ]
  },
  {
   "cell_type": "code",
   "execution_count": null,
   "metadata": {},
   "outputs": [],
   "source": []
  },
  {
   "cell_type": "markdown",
   "metadata": {},
   "source": [
    "## Add more predictors to the Ridge model"
   ]
  },
  {
   "cell_type": "markdown",
   "metadata": {},
   "source": [
    "We can improve the ridge model somewhat by adding predictors total_rooms and rooms_per_hh.\n",
    "\n",
    "From what I am seeing, the categorical variable, ocean_proximity, does not help us get a better predictive model.  (I hedge because there are a number of combinations with ocean_proximity that I do not test in what follows.)\n"
   ]
  },
  {
   "cell_type": "code",
   "execution_count": 104,
   "metadata": {},
   "outputs": [
    {
     "data": {
      "text/html": [
       "<div>\n",
       "<style scoped>\n",
       "    .dataframe tbody tr th:only-of-type {\n",
       "        vertical-align: middle;\n",
       "    }\n",
       "\n",
       "    .dataframe tbody tr th {\n",
       "        vertical-align: top;\n",
       "    }\n",
       "\n",
       "    .dataframe thead th {\n",
       "        text-align: right;\n",
       "    }\n",
       "</style>\n",
       "<table border=\"1\" class=\"dataframe\">\n",
       "  <thead>\n",
       "    <tr style=\"text-align: right;\">\n",
       "      <th></th>\n",
       "      <th>total_rooms</th>\n",
       "      <th>total_bedrooms</th>\n",
       "      <th>population</th>\n",
       "      <th>rooms_per_hh</th>\n",
       "      <th>bdrms_per_room</th>\n",
       "      <th>pop_per_hh</th>\n",
       "    </tr>\n",
       "  </thead>\n",
       "  <tbody>\n",
       "    <tr>\n",
       "      <th>total_rooms</th>\n",
       "      <td>1.000000</td>\n",
       "      <td>0.926511</td>\n",
       "      <td>0.858527</td>\n",
       "      <td>0.189991</td>\n",
       "      <td>-0.197630</td>\n",
       "      <td>-0.110973</td>\n",
       "    </tr>\n",
       "    <tr>\n",
       "      <th>total_bedrooms</th>\n",
       "      <td>0.926511</td>\n",
       "      <td>1.000000</td>\n",
       "      <td>0.874802</td>\n",
       "      <td>0.002857</td>\n",
       "      <td>0.084066</td>\n",
       "      <td>-0.146140</td>\n",
       "    </tr>\n",
       "    <tr>\n",
       "      <th>population</th>\n",
       "      <td>0.858527</td>\n",
       "      <td>0.874802</td>\n",
       "      <td>1.000000</td>\n",
       "      <td>-0.074324</td>\n",
       "      <td>0.020928</td>\n",
       "      <td>0.177688</td>\n",
       "    </tr>\n",
       "    <tr>\n",
       "      <th>rooms_per_hh</th>\n",
       "      <td>0.189991</td>\n",
       "      <td>0.002857</td>\n",
       "      <td>-0.074324</td>\n",
       "      <td>1.000000</td>\n",
       "      <td>-0.564184</td>\n",
       "      <td>-0.056187</td>\n",
       "    </tr>\n",
       "    <tr>\n",
       "      <th>bdrms_per_room</th>\n",
       "      <td>-0.197630</td>\n",
       "      <td>0.084066</td>\n",
       "      <td>0.020928</td>\n",
       "      <td>-0.564184</td>\n",
       "      <td>1.000000</td>\n",
       "      <td>0.007697</td>\n",
       "    </tr>\n",
       "    <tr>\n",
       "      <th>pop_per_hh</th>\n",
       "      <td>-0.110973</td>\n",
       "      <td>-0.146140</td>\n",
       "      <td>0.177688</td>\n",
       "      <td>-0.056187</td>\n",
       "      <td>0.007697</td>\n",
       "      <td>1.000000</td>\n",
       "    </tr>\n",
       "  </tbody>\n",
       "</table>\n",
       "</div>"
      ],
      "text/plain": [
       "                total_rooms  total_bedrooms  population  rooms_per_hh  \\\n",
       "total_rooms        1.000000        0.926511    0.858527      0.189991   \n",
       "total_bedrooms     0.926511        1.000000    0.874802      0.002857   \n",
       "population         0.858527        0.874802    1.000000     -0.074324   \n",
       "rooms_per_hh       0.189991        0.002857   -0.074324      1.000000   \n",
       "bdrms_per_room    -0.197630        0.084066    0.020928     -0.564184   \n",
       "pop_per_hh        -0.110973       -0.146140    0.177688     -0.056187   \n",
       "\n",
       "                bdrms_per_room  pop_per_hh  \n",
       "total_rooms          -0.197630   -0.110973  \n",
       "total_bedrooms        0.084066   -0.146140  \n",
       "population            0.020928    0.177688  \n",
       "rooms_per_hh         -0.564184   -0.056187  \n",
       "bdrms_per_room        1.000000    0.007697  \n",
       "pop_per_hh            0.007697    1.000000  "
      ]
     },
     "execution_count": 104,
     "metadata": {},
     "output_type": "execute_result"
    }
   ],
   "source": [
    "# In Part01 we saw that households and population are too highly\n",
    "# correlated to include together.  We also see below that \n",
    "# total_bedrooms is highly correlated with population and total_rooms.\n",
    "\n",
    "corr_matrix = train[['total_rooms','total_bedrooms',\n",
    "                     'population', 'rooms_per_hh',\n",
    "                     'bdrms_per_room','pop_per_hh']].corr()\n",
    "corr_matrix\n"
   ]
  },
  {
   "cell_type": "code",
   "execution_count": 105,
   "metadata": {},
   "outputs": [
    {
     "name": "stdout",
     "output_type": "stream",
     "text": [
      "(16482, 11)\n"
     ]
    }
   ],
   "source": [
    "# Do not include total_bedrooms or households.\n",
    "\n",
    "X_train_raw = train[['housing_median_age','total_rooms',\n",
    "                         'population','median_income','HHdens_ln',\n",
    "                         'rooms_per_hh','bdrms_per_room','pop_per_hh',\n",
    "                         'ocean_proximity','long_transf','latitude']].copy()\n",
    "print(X_train_raw.shape)\n"
   ]
  },
  {
   "cell_type": "code",
   "execution_count": 107,
   "metadata": {},
   "outputs": [
    {
     "name": "stdout",
     "output_type": "stream",
     "text": [
      "(4121, 11)\n"
     ]
    }
   ],
   "source": [
    "X_test_raw = test[['housing_median_age','total_rooms',\n",
    "                         'population','median_income','HHdens_ln',\n",
    "                         'rooms_per_hh','bdrms_per_room','pop_per_hh',\n",
    "                         'ocean_proximity','long_transf','latitude']].copy()\n",
    "print(X_test_raw.shape)\n"
   ]
  },
  {
   "cell_type": "code",
   "execution_count": 108,
   "metadata": {},
   "outputs": [],
   "source": [
    "num_attribs_raw = list(X_train_raw.drop([\"ocean_proximity\"], axis=1).columns)\n",
    "\n",
    "cat_attribs_raw = ['ocean_proximity']\n"
   ]
  },
  {
   "cell_type": "code",
   "execution_count": 109,
   "metadata": {},
   "outputs": [],
   "source": [
    "preproc = ColumnTransformer([\n",
    "    (\"num\", MinMaxScaler(), num_attribs_raw),\n",
    "    (\"cat\", OneHotEncoder(sparse=False), cat_attribs_raw),\n",
    "])\n"
   ]
  },
  {
   "cell_type": "code",
   "execution_count": 110,
   "metadata": {},
   "outputs": [],
   "source": [
    "pipe = Pipeline([(\"prep_dat\", preproc),\n",
    "                 ('poly', PolynomialFeatures()), \n",
    "                 ('model', Ridge())])\n"
   ]
  },
  {
   "cell_type": "code",
   "execution_count": 113,
   "metadata": {},
   "outputs": [
    {
     "name": "stdout",
     "output_type": "stream",
     "text": [
      "Time difference of 0.28 minutes\n"
     ]
    },
    {
     "data": {
      "text/plain": [
       "{'model__alpha': 0.03, 'poly__degree': 4}"
      ]
     },
     "execution_count": 113,
     "metadata": {},
     "output_type": "execute_result"
    }
   ],
   "source": [
    "# On my machine Ridge struggles when we test poly__degree=5.    \n",
    "\n",
    "param_grid = {'poly__degree': [3,4],\n",
    "              'model__alpha': [0.01, 0.03, 0.05]}\n",
    "\n",
    "start_time = datetime.now()\n",
    "grid = GridSearchCV(pipe, param_grid, cv=5, scoring='neg_mean_squared_error', n_jobs=4)\n",
    "grid.fit(X_train_raw, y_train)\n",
    "stop_time = datetime.now()\n",
    "delta = stop_time - start_time\n",
    "timeval = round(delta.seconds/60, 2)\n",
    "print(\"Time difference of \" + str(timeval) + \" minutes\")\n",
    "# Time difference of 0.28 minutes.\n",
    "\n",
    "grid.best_params_\n",
    "# {'model__alpha': 0.03, 'poly__degree': 4}\n"
   ]
  },
  {
   "cell_type": "code",
   "execution_count": 114,
   "metadata": {},
   "outputs": [
    {
     "name": "stdout",
     "output_type": "stream",
     "text": [
      "Best cross-validation score: 63737\n",
      "Test-set score: 63037\n"
     ]
    }
   ],
   "source": [
    "# Get scores from the best model.\n",
    "\n",
    "best_score = np.power(-grid.best_score_, 0.5)\n",
    "test_score = grid.score(X_test_raw, y_test)\n",
    "test_score = np.power(-test_score, 0.5)\n",
    "\n",
    "print(\"Best cross-validation score: {:.0f}\".format(best_score))\n",
    "print(\"Test-set score: {:.0f}\".format(test_score))\n",
    "#  Best cross-validation score: 63.7K\n",
    "#  Test-set score: 63.0K\n"
   ]
  },
  {
   "cell_type": "markdown",
   "metadata": {},
   "source": [
    "### Get comparative score for the Ridge model that uses more predictors"
   ]
  },
  {
   "cell_type": "code",
   "execution_count": 115,
   "metadata": {},
   "outputs": [
    {
     "name": "stdout",
     "output_type": "stream",
     "text": [
      "Comparative rmse score for the Ridge model with more predictors:  $63,197\n"
     ]
    }
   ],
   "source": [
    "# The following is a score for all test districts.\n",
    "\n",
    "testdat = test[['housing_median_age','total_rooms',\n",
    "                         'population','median_income','HHdens_ln',\n",
    "                         'rooms_per_hh','bdrms_per_room','pop_per_hh',\n",
    "                         'ocean_proximity','long_transf','latitude',\n",
    "                'median_house_value']].copy()\n",
    "\n",
    "seed_choices = np.arange(start=1000, stop=21000, dtype=int)\n",
    "np.random.seed(4321)\n",
    "smp = np.random.choice(seed_choices, size=500, replace=False)\n",
    "\n",
    "rmse_score = get_rmse(smp, testdat)\n",
    "\n",
    "print(\"Comparative rmse score for the Ridge model with more predictors:  \" + '$' +\n",
    "      f'{rmse_score:,.0f}')\n",
    "\n",
    "# $63,197\n",
    "\n",
    "# For the simpler ridge model this score was 59.85K.\n"
   ]
  },
  {
   "cell_type": "code",
   "execution_count": 116,
   "metadata": {},
   "outputs": [
    {
     "name": "stdout",
     "output_type": "stream",
     "text": [
      "Comparative rmse score for 2nd Ridge model when median house value < 500K:  $52,511\n"
     ]
    }
   ],
   "source": [
    "# The following is a score for districts with a median_house_value < 500K.\n",
    "\n",
    "testdat2 = testdat[testdat.median_house_value < 500000].copy()\n",
    "\n",
    "rmse_score = get_rmse(smp, testdat2)\n",
    "\n",
    "print(\"Comparative rmse score for 2nd Ridge model when median house value < 500K:  \" + '$' +\n",
    "      f'{rmse_score:,.0f}')\n",
    "\n",
    "# $52,511\n",
    "\n",
    "# For the simpler ridge model this score was 55.3K.\n"
   ]
  },
  {
   "cell_type": "markdown",
   "metadata": {},
   "source": [
    "### Remove ocean_proximity and bdrms_per_room"
   ]
  },
  {
   "cell_type": "code",
   "execution_count": 12,
   "metadata": {},
   "outputs": [
    {
     "name": "stdout",
     "output_type": "stream",
     "text": [
      "(16482, 9)\n"
     ]
    }
   ],
   "source": [
    "X_train_raw = train[['housing_median_age','total_rooms',\n",
    "                         'population','median_income','HHdens_ln',\n",
    "                         'rooms_per_hh','pop_per_hh',\n",
    "                         'long_transf','latitude']].copy()\n",
    "print(X_train_raw.shape)\n"
   ]
  },
  {
   "cell_type": "code",
   "execution_count": 13,
   "metadata": {},
   "outputs": [
    {
     "name": "stdout",
     "output_type": "stream",
     "text": [
      "(4121, 9)\n"
     ]
    }
   ],
   "source": [
    "X_test_raw = test[['housing_median_age','total_rooms',\n",
    "                         'population','median_income','HHdens_ln',\n",
    "                         'rooms_per_hh','pop_per_hh',\n",
    "                         'long_transf','latitude']].copy()\n",
    "print(X_test_raw.shape)\n"
   ]
  },
  {
   "cell_type": "code",
   "execution_count": 120,
   "metadata": {},
   "outputs": [],
   "source": [
    "pipe = Pipeline([('scaler', MinMaxScaler()),\n",
    "                 ('poly', PolynomialFeatures()), \n",
    "                 ('model', Ridge())])\n"
   ]
  },
  {
   "cell_type": "code",
   "execution_count": 121,
   "metadata": {},
   "outputs": [
    {
     "name": "stdout",
     "output_type": "stream",
     "text": [
      "Time difference of 0.03 minutes\n"
     ]
    },
    {
     "data": {
      "text/plain": [
       "{'model__alpha': 0.01, 'poly__degree': 4}"
      ]
     },
     "execution_count": 121,
     "metadata": {},
     "output_type": "execute_result"
    }
   ],
   "source": [
    "param_grid = {'poly__degree': [3,4],\n",
    "              'model__alpha': [0.01, 0.03, 0.05]}\n",
    "\n",
    "start_time = datetime.now()\n",
    "grid = GridSearchCV(pipe, param_grid, cv=5, scoring='neg_mean_squared_error', n_jobs=4)\n",
    "grid.fit(X_train_raw, y_train)\n",
    "stop_time = datetime.now()\n",
    "delta = stop_time - start_time\n",
    "timeval = round(delta.seconds/60, 2)\n",
    "print(\"Time difference of \" + str(timeval) + \" minutes\")\n",
    "# Time difference of 0.03 minutes.\n",
    "\n",
    "grid.best_params_\n",
    "# {'model__alpha': 0.01, 'poly__degree': 4}\n"
   ]
  },
  {
   "cell_type": "code",
   "execution_count": 122,
   "metadata": {},
   "outputs": [
    {
     "name": "stdout",
     "output_type": "stream",
     "text": [
      "Best cross-validation score: 66264\n",
      "Test-set score: 63263\n"
     ]
    }
   ],
   "source": [
    "# Get scores from the best model.\n",
    "\n",
    "best_score = np.power(-grid.best_score_, 0.5)\n",
    "test_score = grid.score(X_test_raw, y_test)\n",
    "test_score = np.power(-test_score, 0.5)\n",
    "\n",
    "print(\"Best cross-validation score: {:.0f}\".format(best_score))\n",
    "print(\"Test-set score: {:.0f}\".format(test_score))\n",
    "#  Best cross-validation score: 66.3K\n",
    "#  Test-set score: 63.3K\n"
   ]
  },
  {
   "cell_type": "markdown",
   "metadata": {},
   "source": [
    "### Get comparative score for this new ridge model"
   ]
  },
  {
   "cell_type": "code",
   "execution_count": 123,
   "metadata": {},
   "outputs": [
    {
     "name": "stdout",
     "output_type": "stream",
     "text": [
      "Comparative rmse score for the 3rd Ridge model:  $59,492\n"
     ]
    }
   ],
   "source": [
    "# The following is a score for all test districts.\n",
    "\n",
    "testdat = test[['housing_median_age','total_rooms',\n",
    "                         'population','median_income','HHdens_ln',\n",
    "                         'rooms_per_hh','pop_per_hh',\n",
    "                         'long_transf','latitude',\n",
    "                'median_house_value']].copy()\n",
    "\n",
    "seed_choices = np.arange(start=1000, stop=21000, dtype=int)\n",
    "np.random.seed(4321)\n",
    "smp = np.random.choice(seed_choices, size=500, replace=False)\n",
    "\n",
    "rmse_score = get_rmse(smp, testdat)\n",
    "\n",
    "print(\"Comparative rmse score for the 3rd Ridge model:  \" + '$' +\n",
    "      f'{rmse_score:,.0f}')\n",
    "\n",
    "# $59,492\n",
    "\n",
    "# For the simpler ridge model this score was 59.85K.\n"
   ]
  },
  {
   "cell_type": "code",
   "execution_count": 124,
   "metadata": {},
   "outputs": [
    {
     "name": "stdout",
     "output_type": "stream",
     "text": [
      "Comparative rmse score for 3rd Ridge model when median house value < 500K:  $53,843\n"
     ]
    }
   ],
   "source": [
    "# The following is a score for districts with a median_house_value < 500K.\n",
    "\n",
    "testdat2 = testdat[testdat.median_house_value < 500000].copy()\n",
    "\n",
    "rmse_score = get_rmse(smp, testdat2)\n",
    "\n",
    "print(\"Comparative rmse score for 3rd Ridge model when median house value < 500K:  \" + '$' +\n",
    "      f'{rmse_score:,.0f}')\n",
    "\n",
    "# $53,843\n",
    "\n",
    "# For the simpler ridge model this score was 55.3K.\n"
   ]
  },
  {
   "cell_type": "code",
   "execution_count": 17,
   "metadata": {},
   "outputs": [
    {
     "data": {
      "text/plain": [
       "715"
      ]
     },
     "execution_count": 17,
     "metadata": {},
     "output_type": "execute_result"
    }
   ],
   "source": [
    "# Find out how many terms are in our ridge model.\n",
    "\n",
    "# We can compute this directly.  We have 9 predictors and\n",
    "# the polynomial degree is 4.  (9 + 4)! / 9!4! = 715 terms.\n",
    "\n",
    "pipe = Pipeline([('scaler', MinMaxScaler()),\n",
    "                 ('poly', PolynomialFeatures(degree= 4)), \n",
    "                 ])\n",
    "X_prepared = pipe.fit_transform(X_train_raw)\n",
    "\n",
    "ridge_reg = Ridge(alpha=0.01).fit(X_prepared, y_train)\n",
    "len(ridge_reg.coef_)\n",
    "# 715\n",
    "\n",
    "# The g03 model from Part01 contains only 15 terms.\n"
   ]
  },
  {
   "cell_type": "markdown",
   "metadata": {},
   "source": [
    "## Final comments for the Ridge model"
   ]
  },
  {
   "cell_type": "markdown",
   "metadata": {},
   "source": [
    "**Ridge model best score on test set:** **59.5K**\n",
    "\n",
    "The corresponding OLS regression score is 61.2K.  The g03 model had a score of 75.5K.  The Ridge model is more complex than either of these 2 models.\n",
    "\n"
   ]
  },
  {
   "cell_type": "code",
   "execution_count": null,
   "metadata": {},
   "outputs": [],
   "source": []
  },
  {
   "cell_type": "markdown",
   "metadata": {},
   "source": [
    "## Lasso model with 6 predictors"
   ]
  },
  {
   "cell_type": "code",
   "execution_count": 143,
   "metadata": {},
   "outputs": [],
   "source": [
    "pipe = Pipeline([('scaler', MinMaxScaler()),\n",
    "                 ('poly', PolynomialFeatures()), \n",
    "                 ('model', Lasso(max_iter=10000, tol=0.001))])\n"
   ]
  },
  {
   "cell_type": "code",
   "execution_count": 145,
   "metadata": {},
   "outputs": [
    {
     "name": "stdout",
     "output_type": "stream",
     "text": [
      "Time difference of 1.77 minutes\n"
     ]
    },
    {
     "data": {
      "text/plain": [
       "{'model__alpha': 15, 'poly__degree': 5}"
      ]
     },
     "execution_count": 145,
     "metadata": {},
     "output_type": "execute_result"
    }
   ],
   "source": [
    "# Parameter grid for Lasso():\n",
    "\n",
    "param_grid = {'poly__degree': [3,4,5], \n",
    "              'model__alpha': [15, 20, 25]}\n",
    "\n",
    "start_time = datetime.now()\n",
    "grid = GridSearchCV(pipe, param_grid, cv=10, scoring='neg_mean_squared_error', n_jobs=10)\n",
    "grid.fit(X_train_6preds, y_train)\n",
    "stop_time = datetime.now()\n",
    "delta = stop_time - start_time\n",
    "timeval = round(delta.seconds/60, 2)\n",
    "print(\"Time difference of \" + str(timeval) + \" minutes\")\n",
    "# Time difference of 1.77 minutes\n",
    "\n",
    "grid.best_params_\n",
    "# {'model__alpha': 15, 'poly__degree': 5}\n"
   ]
  },
  {
   "cell_type": "code",
   "execution_count": 146,
   "metadata": {},
   "outputs": [
    {
     "name": "stdout",
     "output_type": "stream",
     "text": [
      "Best cross-validation score: 69305\n",
      "Test-set score: 67282\n"
     ]
    }
   ],
   "source": [
    "# Get scores from the best model.\n",
    "\n",
    "best_score = np.power(-grid.best_score_, 0.5)\n",
    "test_score = grid.score(X_test_6preds, y_test)\n",
    "test_score = np.power(-test_score, 0.5)\n",
    "\n",
    "print(\"Best cross-validation score: {:.0f}\".format(best_score))\n",
    "print(\"Test-set score: {:.0f}\".format(test_score))\n",
    "#  Best cross-validation score: 69.3K\n",
    "#  Test-set score: 67.3K    \n"
   ]
  },
  {
   "cell_type": "markdown",
   "metadata": {},
   "source": [
    "### Get comparative score for the lasso model"
   ]
  },
  {
   "cell_type": "code",
   "execution_count": 148,
   "metadata": {},
   "outputs": [
    {
     "name": "stdout",
     "output_type": "stream",
     "text": [
      "Comparative rmse score for the lasso model:  $64,014\n"
     ]
    }
   ],
   "source": [
    "# The following is a score for all test districts.\n",
    "\n",
    "testdat = X_train_6preds.join(y_test)\n",
    "\n",
    "seed_choices = np.arange(start=1000, stop=21000, dtype=int)\n",
    "np.random.seed(4321)\n",
    "smp = np.random.choice(seed_choices, size=500, replace=False)\n",
    "\n",
    "rmse_score = get_rmse(smp, testdat)\n",
    "\n",
    "print(\"Comparative rmse score for the lasso model:  \" + '$' +\n",
    "      f'{rmse_score:,.0f}')\n",
    "\n",
    "# $64,014\n",
    "\n",
    "# The best ridge model has a score of 59.5K.\n"
   ]
  },
  {
   "cell_type": "code",
   "execution_count": 150,
   "metadata": {},
   "outputs": [
    {
     "name": "stdout",
     "output_type": "stream",
     "text": [
      "Comparative rmse score for the lasso when median house value < 500K:  $56,892\n"
     ]
    }
   ],
   "source": [
    "# The following is a score for districts with a median_house_value < 500K.\n",
    "\n",
    "testdat2 = testdat[testdat.median_house_value < 500000].copy()\n",
    "\n",
    "rmse_score = get_rmse(smp, testdat2)\n",
    "\n",
    "print(\"Comparative rmse score for the lasso when median house value < 500K:  \" + '$' +\n",
    "      f'{rmse_score:,.0f}')\n",
    "\n",
    "# $56,892\n",
    "\n",
    "# The best ridge model has a score of 53.8K.\n"
   ]
  },
  {
   "cell_type": "markdown",
   "metadata": {},
   "source": [
    "## Comments on Lasso model"
   ]
  },
  {
   "cell_type": "markdown",
   "metadata": {},
   "source": [
    "For this dataset and the number of predictors I am working with, and for the basic parameter settings I am using for lasso and ridge, ridge is proving to be much better to work with.  Lasso requires more computing time than ridge, by several orders of magnitude.  This makes experimentation and tuning of the model much more difficult.\n",
    "\n",
    "\n",
    "**Lasso model best score on test set, using 9 predictors:**  **64K**\n"
   ]
  },
  {
   "cell_type": "code",
   "execution_count": null,
   "metadata": {},
   "outputs": [],
   "source": []
  },
  {
   "cell_type": "markdown",
   "metadata": {},
   "source": [
    "## Section 1 Final Comments"
   ]
  },
  {
   "cell_type": "markdown",
   "metadata": {},
   "source": [
    "Of the linear models surveyed above, Ridge has the best score on the testset data.  This holds true even when Ridge is restricted to the 6 predictors of model g03.\n",
    "\n",
    "Ridge has the added virtue of still being relatively fast.  This is not so with lasso (nor with elastic net).  Because lasso does not work well with this dataset, I will not review any elastic net models.  The elastic net models I have looked at struggle in the same way that lasso does.\n"
   ]
  },
  {
   "cell_type": "code",
   "execution_count": null,
   "metadata": {},
   "outputs": [],
   "source": []
  },
  {
   "cell_type": "markdown",
   "metadata": {},
   "source": [
    "# Section 2: A Support Vector Machine regression model"
   ]
  },
  {
   "cell_type": "markdown",
   "metadata": {},
   "source": [
    "Here, too, I restrict the models to the 6 predictors used in the g03 model.\n"
   ]
  },
  {
   "cell_type": "code",
   "execution_count": 14,
   "metadata": {},
   "outputs": [],
   "source": [
    "from sklearn.svm import SVR\n"
   ]
  },
  {
   "cell_type": "code",
   "execution_count": 15,
   "metadata": {},
   "outputs": [],
   "source": [
    "pipe = Pipeline([('scaler', MinMaxScaler()),  \n",
    "                 ('model', SVR(kernel=\"rbf\", C=3500, gamma=0.07))])\n"
   ]
  },
  {
   "cell_type": "code",
   "execution_count": 16,
   "metadata": {},
   "outputs": [
    {
     "name": "stdout",
     "output_type": "stream",
     "text": [
      "Time difference of 2.6 minutes\n"
     ]
    },
    {
     "data": {
      "text/plain": [
       "{'model__C': 200000, 'model__gamma': 0.3, 'scaler': StandardScaler()}"
      ]
     },
     "execution_count": 16,
     "metadata": {},
     "output_type": "execute_result"
    }
   ],
   "source": [
    "# As C increases, the model is less restricted; that is, the model \n",
    "# increases in complexity as C increases.  As gamma decreases, the\n",
    "# model becomes less complex because the Gaussian kernal radius \n",
    "# increases, meaning that more points are considered in each training\n",
    "# sample.\n",
    "\n",
    "# Search for best parameters, Round 1:\n",
    "\n",
    "param_grid = [{'model__C': [100000, 150000, 200000], \n",
    "               'model__gamma': [0.2, 0.3],\n",
    "               'scaler' : [StandardScaler(), RobustScaler(), MinMaxScaler()]\n",
    "               }]\n",
    "\n",
    "start_time = datetime.now()\n",
    "grid = GridSearchCV(pipe, param_grid, cv=5, scoring='neg_mean_squared_error', n_jobs=10)\n",
    "grid.fit(X_train_6preds, y_train)\n",
    "stop_time = datetime.now()\n",
    "delta = stop_time - start_time\n",
    "timeval = round(delta.seconds/60, 2)\n",
    "print(\"Time difference of \" + str(timeval) + \" minutes\")\n",
    "# Time difference of 2.6 minutes \n",
    "\n",
    "grid.best_params_\n",
    "# {'model__C': 200000, 'model__gamma': 0.3, 'scaler': StandardScaler()}\n",
    "\n"
   ]
  },
  {
   "cell_type": "code",
   "execution_count": 17,
   "metadata": {},
   "outputs": [
    {
     "name": "stdout",
     "output_type": "stream",
     "text": [
      "Best cross-validation score: 62426\n",
      "Test-set score: 60040\n"
     ]
    }
   ],
   "source": [
    "# Get scores from the best model.\n",
    "\n",
    "best_score = np.power(-grid.best_score_, 0.5)\n",
    "test_score = grid.score(X_test_6preds, y_test)\n",
    "test_score = np.power(-test_score, 0.5)\n",
    "\n",
    "print(\"Best cross-validation score: {:.0f}\".format(best_score))\n",
    "print(\"Test-set score: {:.0f}\".format(test_score))\n",
    "#  Best cross-validation score: 62.4K\n",
    "#  Test-set score: 60K\n"
   ]
  },
  {
   "cell_type": "code",
   "execution_count": 18,
   "metadata": {},
   "outputs": [],
   "source": [
    "# Add StandardScaler to the pipe.\n",
    "\n",
    "pipe = Pipeline([('scaler', StandardScaler()),  \n",
    "                 ('model', SVR(kernel=\"rbf\"))])\n"
   ]
  },
  {
   "cell_type": "code",
   "execution_count": 19,
   "metadata": {},
   "outputs": [
    {
     "name": "stdout",
     "output_type": "stream",
     "text": [
      "Time difference of 2.07 minutes\n"
     ]
    },
    {
     "data": {
      "text/plain": [
       "{'model__C': 250000, 'model__gamma': 0.4}"
      ]
     },
     "execution_count": 19,
     "metadata": {},
     "output_type": "execute_result"
    }
   ],
   "source": [
    "# Search for best parameters, Round 2:\n",
    "\n",
    "param_grid = [{'model__C': [200000, 250000], \n",
    "               'model__gamma': [0.4, 0.5],\n",
    "               }]\n",
    "\n",
    "start_time = datetime.now()\n",
    "grid = GridSearchCV(pipe, param_grid, cv=5, scoring='neg_mean_squared_error', n_jobs=10)\n",
    "grid.fit(X_train_6preds, y_train)\n",
    "stop_time = datetime.now()\n",
    "delta = stop_time - start_time\n",
    "timeval = round(delta.seconds/60, 2)\n",
    "print(\"Time difference of \" + str(timeval) + \" minutes\")\n",
    "# Time difference of 2.07 minutes \n",
    "\n",
    "grid.best_params_\n",
    "# {'model__C': 250000, 'model__gamma': 0.4}\n"
   ]
  },
  {
   "cell_type": "code",
   "execution_count": 20,
   "metadata": {},
   "outputs": [
    {
     "name": "stdout",
     "output_type": "stream",
     "text": [
      "Best cross-validation score: 62259\n",
      "Test-set score: 60148\n"
     ]
    }
   ],
   "source": [
    "# Get scores from the best model.\n",
    "\n",
    "best_score = np.power(-grid.best_score_, 0.5)\n",
    "test_score = grid.score(X_test_6preds, y_test)\n",
    "test_score = np.power(-test_score, 0.5)\n",
    "\n",
    "print(\"Best cross-validation score: {:.0f}\".format(best_score))\n",
    "print(\"Test-set score: {:.0f}\".format(test_score))\n",
    "#  Best cross-validation score: 62.3K\n",
    "#  Test-set score: 60.1K\n"
   ]
  },
  {
   "cell_type": "markdown",
   "metadata": {},
   "source": [
    "### Get comparative score for the SVR model"
   ]
  },
  {
   "cell_type": "code",
   "execution_count": 21,
   "metadata": {},
   "outputs": [
    {
     "name": "stdout",
     "output_type": "stream",
     "text": [
      "Comparative rmse score for the SVR model:  $57,683\n"
     ]
    }
   ],
   "source": [
    "# The following is a score for all test districts.\n",
    "\n",
    "testdat = X_train_6preds.join(y_test)\n",
    "\n",
    "seed_choices = np.arange(start=1000, stop=21000, dtype=int)\n",
    "np.random.seed(4321)\n",
    "smp = np.random.choice(seed_choices, size=500, replace=False)\n",
    "\n",
    "# The runtime is much longer than any of the previous models.\n",
    "rmse_score = get_rmse(smp, testdat)\n",
    "\n",
    "print(\"Comparative rmse score for the SVR model:  \" + '$' +\n",
    "      f'{rmse_score:,.0f}')\n",
    "\n",
    "# $57,683\n",
    "\n",
    "# The best ridge model has a score of 59.5K.\n"
   ]
  },
  {
   "cell_type": "code",
   "execution_count": 22,
   "metadata": {},
   "outputs": [
    {
     "name": "stdout",
     "output_type": "stream",
     "text": [
      "Time difference of 1.6 minutes\n",
      "\n",
      "Comparative rmse score for the SVR model when median house value < 500K:  $49,388\n"
     ]
    }
   ],
   "source": [
    "# The following is a score for districts with a median_house_value < 500K.\n",
    "\n",
    "testdat2 = testdat[testdat.median_house_value < 500000].copy()\n",
    "\n",
    "start_time = datetime.now()\n",
    "rmse_score = get_rmse(smp, testdat2)\n",
    "stop_time = datetime.now()\n",
    "delta = stop_time - start_time\n",
    "timeval = round(delta.seconds/60, 2)\n",
    "print(\"Time difference of \" + str(timeval) + \" minutes\")\n",
    "# Time difference of 1.6 minutes\n",
    "\n",
    "print(\"\")\n",
    "print(\"Comparative rmse score for the SVR model when median house value < 500K:  \" + '$' +\n",
    "      f'{rmse_score:,.0f}')\n",
    "\n",
    "# $49,388\n",
    "\n",
    "# The best ridge model has a score of 53.8K.\n"
   ]
  },
  {
   "cell_type": "markdown",
   "metadata": {},
   "source": [
    "## Final comments on SVM regression model"
   ]
  },
  {
   "cell_type": "markdown",
   "metadata": {},
   "source": [
    "With radial basis function for the kernel, the SVR algorithm works quite well.  With only 6 predictors, it is the best performing model thus far in terms of the scores on the testset.  The algorithm requires quite a bit more computing time, however, than all previous models.  \n",
    "\n",
    "Overall, I am impressed with this algorithm.\n",
    "\n",
    "\n",
    "**SVR best score on test set using only 6 predictors:**  **57.7K**\n"
   ]
  },
  {
   "cell_type": "code",
   "execution_count": null,
   "metadata": {},
   "outputs": [],
   "source": []
  },
  {
   "cell_type": "markdown",
   "metadata": {},
   "source": [
    "# Section 3: Random forest models"
   ]
  },
  {
   "cell_type": "markdown",
   "metadata": {},
   "source": [
    "I start by using X_train_9preds.  Previous work has shown that ocean_proximity and pop_per_hh are important predictors for the random forest model.\n"
   ]
  },
  {
   "cell_type": "code",
   "execution_count": 12,
   "metadata": {},
   "outputs": [],
   "source": [
    "from sklearn.ensemble import RandomForestRegressor\n"
   ]
  },
  {
   "cell_type": "code",
   "execution_count": 20,
   "metadata": {},
   "outputs": [],
   "source": [
    "X_train_9preds = X_train[['median_income','long_transf','latitude',\n",
    "                          'pop_per_hh','HHdens_ln','housing_median_age',\n",
    "                          'total_rooms','bdrms_per_room','ocean_proximity']].copy()\n",
    "\n",
    "X_test_9preds = X_test[['median_income','long_transf','latitude',\n",
    "                        'pop_per_hh','HHdens_ln','housing_median_age',\n",
    "                        'total_rooms','bdrms_per_room','ocean_proximity']].copy()\n"
   ]
  },
  {
   "cell_type": "code",
   "execution_count": 21,
   "metadata": {},
   "outputs": [],
   "source": [
    "num_attribs = list(X_train_9preds.drop([\"ocean_proximity\"], axis=1).columns)\n",
    "cat_attribs = [\"ocean_proximity\"]\n"
   ]
  },
  {
   "cell_type": "code",
   "execution_count": 15,
   "metadata": {},
   "outputs": [],
   "source": [
    "# We need to convert the levels of ocean_proximity to dummy variables.\n",
    "# The scaling is not required.\n",
    "\n",
    "preproc = ColumnTransformer([\n",
    "    (\"num\", StandardScaler(), num_attribs),\n",
    "    (\"cat\", OneHotEncoder(sparse=False), cat_attribs),\n",
    "])\n",
    "\n",
    "pipe = Pipeline([(\"prep_dat\", preproc),\n",
    "                 ('model', RandomForestRegressor(bootstrap=False, random_state=42))])\n"
   ]
  },
  {
   "cell_type": "code",
   "execution_count": 27,
   "metadata": {},
   "outputs": [
    {
     "name": "stdout",
     "output_type": "stream",
     "text": [
      "Time difference of 8.97 minutes\n"
     ]
    },
    {
     "data": {
      "text/plain": [
       "{'model__bootstrap': False,\n",
       " 'model__max_features': 3,\n",
       " 'model__n_estimators': 500}"
      ]
     },
     "execution_count": 27,
     "metadata": {},
     "output_type": "execute_result"
    }
   ],
   "source": [
    "param_grid = [{'model__bootstrap': [True, False], \n",
    "               'model__n_estimators' : [300, 400, 500],\n",
    "               'model__max_features': [3, 4, 5, 6]\n",
    "               }]\n",
    "\n",
    "start_time = datetime.now()\n",
    "grid = GridSearchCV(pipe, param_grid, cv=7, scoring='neg_mean_squared_error', n_jobs=10)\n",
    "grid.fit(X_train_9preds, y_train)\n",
    "stop_time = datetime.now()\n",
    "delta = stop_time - start_time\n",
    "timeval = round(delta.seconds/60, 2)\n",
    "print(\"Time difference of \" + str(timeval) + \" minutes\")\n",
    "# Time difference of 8.97 minutes \n",
    "\n",
    "grid.best_params_\n",
    "# {'model__bootstrap': False,'model__max_features': 3,'model__n_estimators': 500}\n"
   ]
  },
  {
   "cell_type": "code",
   "execution_count": 28,
   "metadata": {},
   "outputs": [
    {
     "name": "stdout",
     "output_type": "stream",
     "text": [
      "Best cross-validation score: 56105\n",
      "Test-set score: 53188\n"
     ]
    }
   ],
   "source": [
    "# Get scores from the best model.\n",
    "\n",
    "best_score = np.power(-grid.best_score_, 0.5)\n",
    "test_score = grid.score(X_test_9preds, y_test)\n",
    "test_score = np.power(-test_score, 0.5)\n",
    "\n",
    "print(\"Best cross-validation score: {:.0f}\".format(best_score))\n",
    "print(\"Test-set score: {:.0f}\".format(test_score))\n",
    "#  Best cross-validation score: 56.1K\n",
    "#  Test-set score: 53.2K\n"
   ]
  },
  {
   "cell_type": "markdown",
   "metadata": {},
   "source": [
    "### Get comparative score for the random forest model"
   ]
  },
  {
   "cell_type": "code",
   "execution_count": 29,
   "metadata": {},
   "outputs": [
    {
     "name": "stdout",
     "output_type": "stream",
     "text": [
      "Comparative rmse score for the random forest model:  $50,477\n"
     ]
    }
   ],
   "source": [
    "# The following is a score for all test districts.\n",
    "\n",
    "testdat = X_test_9preds.join(y_test)\n",
    "\n",
    "seed_choices = np.arange(start=1000, stop=21000, dtype=int)\n",
    "np.random.seed(4321)\n",
    "smp = np.random.choice(seed_choices, size=500, replace=False)\n",
    "\n",
    "# The runtime is much longer than any of the previous models.\n",
    "rmse_score = get_rmse(smp, testdat)\n",
    "\n",
    "print(\"Comparative rmse score for the random forest model:  \" + '$' +\n",
    "      f'{rmse_score:,.0f}')\n",
    "\n",
    "# $50,477\n",
    "\n",
    "# The previous best model, the SVR, has a score of 57.7K.\n"
   ]
  },
  {
   "cell_type": "code",
   "execution_count": 30,
   "metadata": {},
   "outputs": [
    {
     "name": "stdout",
     "output_type": "stream",
     "text": [
      "Time difference of 1.42 minutes\n",
      "\n",
      "Comparative rmse score for the random forest model when median house value < 500K:  $45,267\n"
     ]
    }
   ],
   "source": [
    "# The following is a score for districts with a median_house_value < 500K.\n",
    "\n",
    "testdat2 = testdat[testdat.median_house_value < 500000].copy()\n",
    "\n",
    "start_time = datetime.now()\n",
    "rmse_score = get_rmse(smp, testdat2)\n",
    "stop_time = datetime.now()\n",
    "delta = stop_time - start_time\n",
    "timeval = round(delta.seconds/60, 2)\n",
    "print(\"Time difference of \" + str(timeval) + \" minutes\")\n",
    "# Time difference of 1.42 minutes\n",
    "\n",
    "print(\"\")\n",
    "print(\"Comparative rmse score for the random forest model when median house value < 500K:  \" + '$' +\n",
    "      f'{rmse_score:,.0f}')\n",
    "\n",
    "# $45,267\n",
    "\n",
    "# The previous best model, the SVR, has a score of 49.4K.\n"
   ]
  },
  {
   "cell_type": "markdown",
   "metadata": {},
   "source": [
    "### Feature importances for the random forest model"
   ]
  },
  {
   "cell_type": "markdown",
   "metadata": {},
   "source": [
    "To get a readable print-out of the feature importances, some preliminary work is required."
   ]
  },
  {
   "cell_type": "code",
   "execution_count": 16,
   "metadata": {},
   "outputs": [
    {
     "name": "stdout",
     "output_type": "stream",
     "text": [
      "Time difference of 0.75 minutes\n"
     ]
    },
    {
     "data": {
      "text/plain": [
       "{'model__bootstrap': False,\n",
       " 'model__max_features': 3,\n",
       " 'model__n_estimators': 500}"
      ]
     },
     "execution_count": 16,
     "metadata": {},
     "output_type": "execute_result"
    }
   ],
   "source": [
    "# A restart was required.  So re-establish the grid object.\n",
    "\n",
    "param_grid = [{'model__bootstrap': [False], \n",
    "               'model__n_estimators' : [500],\n",
    "               'model__max_features': [3]\n",
    "               }]\n",
    "\n",
    "start_time = datetime.now()\n",
    "grid = GridSearchCV(pipe, param_grid, cv=7, scoring='neg_mean_squared_error', n_jobs=10)\n",
    "grid.fit(X_train_9preds, y_train)\n",
    "stop_time = datetime.now()\n",
    "delta = stop_time - start_time\n",
    "timeval = round(delta.seconds/60, 2)\n",
    "print(\"Time difference of \" + str(timeval) + \" minutes\")\n",
    "# Time difference of 0.75 minutes \n",
    "\n",
    "grid.best_params_\n"
   ]
  },
  {
   "cell_type": "code",
   "execution_count": 17,
   "metadata": {},
   "outputs": [
    {
     "name": "stdout",
     "output_type": "stream",
     "text": [
      "Best estimator:\n",
      "Pipeline(steps=[('prep_dat',\n",
      "                 ColumnTransformer(transformers=[('num', StandardScaler(),\n",
      "                                                  ['median_income',\n",
      "                                                   'long_transf', 'latitude',\n",
      "                                                   'pop_per_hh', 'HHdens_ln',\n",
      "                                                   'housing_median_age',\n",
      "                                                   'total_rooms',\n",
      "                                                   'bdrms_per_room']),\n",
      "                                                 ('cat',\n",
      "                                                  OneHotEncoder(sparse=False),\n",
      "                                                  ['ocean_proximity'])])),\n",
      "                ('model',\n",
      "                 RandomForestRegressor(bootstrap=False, max_features=3,\n",
      "                                       n_estimators=500, random_state=42))])\n"
     ]
    }
   ],
   "source": [
    "print(\"Best estimator:\\n{}\".format(grid.best_estimator_))\n"
   ]
  },
  {
   "cell_type": "code",
   "execution_count": 18,
   "metadata": {},
   "outputs": [
    {
     "name": "stdout",
     "output_type": "stream",
     "text": [
      "processed_dat:\n",
      "ColumnTransformer(transformers=[('num', StandardScaler(),\n",
      "                                 ['median_income', 'long_transf', 'latitude',\n",
      "                                  'pop_per_hh', 'HHdens_ln',\n",
      "                                  'housing_median_age', 'total_rooms',\n",
      "                                  'bdrms_per_room']),\n",
      "                                ('cat', OneHotEncoder(sparse=False),\n",
      "                                 ['ocean_proximity'])])\n"
     ]
    }
   ],
   "source": [
    "best_current_model = grid.best_estimator_.named_steps[\"model\"]\n",
    "\n",
    "feature_importances = best_current_model.feature_importances_.round(4)\n",
    "\n",
    "processed_dat = grid.best_estimator_.named_steps['prep_dat']\n",
    "print(\"processed_dat:\\n{}\".format(processed_dat))\n"
   ]
  },
  {
   "cell_type": "code",
   "execution_count": 19,
   "metadata": {},
   "outputs": [
    {
     "name": "stdout",
     "output_type": "stream",
     "text": [
      "['INLAND', 'NEAR BAY', 'NEAR OCEAN', 'OCEAN']\n"
     ]
    }
   ],
   "source": [
    "cat_encoder = processed_dat.named_transformers_['cat']\n",
    "cat_one_hot_attribs = list(cat_encoder.categories_[0])\n",
    "print(cat_one_hot_attribs)\n"
   ]
  },
  {
   "cell_type": "code",
   "execution_count": 20,
   "metadata": {},
   "outputs": [
    {
     "data": {
      "text/plain": [
       "[(0.3153, 'median_income'),\n",
       " (0.1658, 'long_transf'),\n",
       " (0.1212, 'bdrms_per_room'),\n",
       " (0.101, 'pop_per_hh'),\n",
       " (0.0756, 'latitude'),\n",
       " (0.069, 'INLAND'),\n",
       " (0.0505, 'HHdens_ln'),\n",
       " (0.0468, 'housing_median_age'),\n",
       " (0.0343, 'total_rooms'),\n",
       " (0.0102, 'OCEAN'),\n",
       " (0.0052, 'NEAR OCEAN'),\n",
       " (0.0052, 'NEAR BAY')]"
      ]
     },
     "execution_count": 20,
     "metadata": {},
     "output_type": "execute_result"
    }
   ],
   "source": [
    "# Feature importances of our best current random forest model.\n",
    "\n",
    "attributes = num_attribs + cat_one_hot_attribs\n",
    "sorted(zip(feature_importances, attributes), reverse=True)\n"
   ]
  },
  {
   "cell_type": "code",
   "execution_count": null,
   "metadata": {},
   "outputs": [],
   "source": [
    "### COMMENTS:\n",
    "\n",
    "# If we construct a model with longitude rather than long_transf, \n",
    "# INLAND is second only to median_income in terms of importance.\n",
    "# So, as expected, the transformation applied to longitude creates\n",
    "# a predictor which negates a great deal of the importance of\n",
    "# ocean_proximity.  \n",
    "\n",
    "# The above output suggests that ocean_proximity is negating some\n",
    "# of the importance of HHdens_ln, the urbanacity metric.\n"
   ]
  },
  {
   "cell_type": "markdown",
   "metadata": {},
   "source": [
    "## Final comments on the random forest model"
   ]
  },
  {
   "cell_type": "markdown",
   "metadata": {},
   "source": [
    "The random forest model beats the SVR by \\\\$7,200 and runs a bit faster.  It makes very good use of the bdrms_per_room and pop_per_hh predictors.  Note that in the current model I have neither population nor households.  Both are highly correlated with total_rooms.\n",
    "\n",
    "The score of 50.5K is extraordinary considering that the corresponding score for g03 is 75.5K.  Our ridge model's score is 59.5K.  Ridge is much faster than random forest on this dataset, and g03 is another order of magnitude faster than ridge.  So the better predictions are at a cost.\n",
    "\n",
    "\n",
    "**Random forest best score on the test set:**  **50.5K**\n"
   ]
  },
  {
   "cell_type": "code",
   "execution_count": null,
   "metadata": {},
   "outputs": [],
   "source": []
  },
  {
   "cell_type": "markdown",
   "metadata": {},
   "source": [
    "# Section 4: Gradient boosting regression"
   ]
  },
  {
   "cell_type": "markdown",
   "metadata": {},
   "source": [
    "Start by using X_train_9preds, the same predictors as were used for our random forest model."
   ]
  },
  {
   "cell_type": "code",
   "execution_count": 18,
   "metadata": {},
   "outputs": [],
   "source": [
    "from sklearn.ensemble import GradientBoostingRegressor\n"
   ]
  },
  {
   "cell_type": "code",
   "execution_count": 22,
   "metadata": {},
   "outputs": [],
   "source": [
    "preproc = ColumnTransformer([\n",
    "    (\"num\", 'passthrough', num_attribs),\n",
    "    (\"cat\", OneHotEncoder(sparse=False), cat_attribs),\n",
    "])\n"
   ]
  },
  {
   "cell_type": "code",
   "execution_count": 23,
   "metadata": {},
   "outputs": [],
   "source": [
    "pipe = Pipeline([(\"prep_dat\", preproc),\n",
    "                 (\"model\", GradientBoostingRegressor(random_state=42,\n",
    "                                                     max_depth=3, \n",
    "                                                     n_estimators=1500,\n",
    "                                                     learning_rate=0.12))])\n"
   ]
  },
  {
   "cell_type": "code",
   "execution_count": null,
   "metadata": {},
   "outputs": [],
   "source": [
    "# Search for best parameters.\n",
    "\n",
    "param_grid = [{'model__n_estimators': [1200, 1500, 1800],\n",
    "               'model__max_depth': [4, 5],\n",
    "               'model__learning_rate': [0.08, 0.06, 0.04]}]\n",
    "\n",
    "# Using only 5 folds.\n",
    "start_time = datetime.now()\n",
    "print(str(start_time))\n",
    "grid = GridSearchCV(pipe, param_grid, cv=5, scoring='neg_mean_squared_error', n_jobs=10)\n",
    "grid.fit(X_train_9preds, y_train)\n",
    "stop_time = datetime.now()\n",
    "delta = stop_time - start_time\n",
    "timeval = round(delta.seconds/60, 2)\n",
    "print(\"Time difference of \" + str(timeval) + \" minutes\")\n",
    "# Time difference of 15.15 minutes \n",
    "\n",
    "grid.best_params_\n",
    "# {'model__learning_rate': 0.04,\n",
    "#  'model__max_depth': 5,\n",
    "#  'model__n_estimators': 1500}\n"
   ]
  },
  {
   "cell_type": "code",
   "execution_count": 25,
   "metadata": {},
   "outputs": [
    {
     "name": "stdout",
     "output_type": "stream",
     "text": [
      "Best cross-validation score: 56808\n",
      "Test-set score: 51882\n"
     ]
    }
   ],
   "source": [
    "# Get scores from the best model.  \n",
    "\n",
    "best_score = np.power(-grid.best_score_, 0.5)\n",
    "test_score = grid.score(X_test_9preds, y_test)\n",
    "test_score = np.power(-test_score, 0.5)\n",
    "\n",
    "print(\"Best cross-validation score: {:.0f}\".format(best_score))\n",
    "print(\"Test-set score: {:.0f}\".format(test_score))\n",
    "# Best cross-validation score: 56.8K\n",
    "# Test-set score: 51.9K\n"
   ]
  },
  {
   "cell_type": "code",
   "execution_count": 26,
   "metadata": {},
   "outputs": [],
   "source": [
    "# Run more cross-folds to get a better measure of the\n",
    "# \"actual\" score and its variability.\n",
    "\n",
    "ct = ColumnTransformer([\n",
    "    (\"num\", 'passthrough', num_attribs),\n",
    "    (\"cat\", OneHotEncoder(sparse=False), cat_attribs),\n",
    "])\n",
    "\n",
    "X_train_prepared = ct.fit_transform(X_train_9preds)\n"
   ]
  },
  {
   "cell_type": "code",
   "execution_count": 27,
   "metadata": {},
   "outputs": [
    {
     "name": "stdout",
     "output_type": "stream",
     "text": [
      "Time difference of 4.07 minutes\n",
      "Mean:  55823.0\n",
      "StdDev:  3202.0\n"
     ]
    }
   ],
   "source": [
    "# The parameters used in the model are those which produced the best\n",
    "# cv score for X_train_9preds above.\n",
    "\n",
    "start_time = datetime.now()\n",
    "gbrt_cv_scores = cross_val_score(GradientBoostingRegressor(random_state=42,\n",
    "                                                           max_depth=5, \n",
    "                                                           n_estimators=1500,\n",
    "                                                           learning_rate=0.04),\n",
    "                                 X_train_prepared, y_train, \n",
    "                                 scoring=\"neg_mean_squared_error\",\n",
    "                                 cv=20, n_jobs=10)\n",
    "stop_time = datetime.now()\n",
    "delta = stop_time - start_time\n",
    "timeval = round(delta.seconds/60, 2)\n",
    "print(\"Time difference of \" + str(timeval) + \" minutes\")\n",
    "# Time difference of 4.07 minutes\n",
    "\n",
    "gbrt_scores = np.sqrt(-gbrt_cv_scores)\n",
    "display_scores(gbrt_scores)\n",
    "#  Mean:  55,823.0\n",
    "#  StdDev:  3202.0\n"
   ]
  },
  {
   "cell_type": "code",
   "execution_count": 29,
   "metadata": {},
   "outputs": [
    {
     "name": "stdout",
     "output_type": "stream",
     "text": [
      "Best cross-validation score: 56808\n",
      "Test-set score: 51882\n"
     ]
    }
   ],
   "source": [
    "# Get scores from the best model.  \n",
    "\n",
    "best_score = np.power(-grid.best_score_, 0.5)\n",
    "test_score = grid.score(X_test_9preds, y_test)\n",
    "test_score = np.power(-test_score, 0.5)\n",
    "\n",
    "print(\"Best cross-validation score: {:.0f}\".format(best_score))\n",
    "print(\"Test-set score: {:.0f}\".format(test_score))\n",
    "#  Best cross-validation score: 56.8K\n",
    "#  Test-set score: 51.9K\n"
   ]
  },
  {
   "cell_type": "markdown",
   "metadata": {},
   "source": [
    "### Get comparative score for the gradient boosting model"
   ]
  },
  {
   "cell_type": "code",
   "execution_count": 31,
   "metadata": {},
   "outputs": [
    {
     "name": "stdout",
     "output_type": "stream",
     "text": [
      "Comparative rmse score for the gradient boosting model:  $48,382\n"
     ]
    }
   ],
   "source": [
    "# The following is a score for all test districts.\n",
    "\n",
    "testdat = X_test_9preds.join(y_test)\n",
    "\n",
    "seed_choices = np.arange(start=1000, stop=21000, dtype=int)\n",
    "np.random.seed(4321)\n",
    "smp = np.random.choice(seed_choices, size=500, replace=False)\n",
    "\n",
    "rmse_score = get_rmse(smp, testdat)\n",
    "\n",
    "print(\"Comparative rmse score for the gradient boosting model:  \" + '$' +\n",
    "      f'{rmse_score:,.0f}')\n",
    "\n",
    "# $48,382\n",
    "\n",
    "# The random forest model has a score of 50.5K.\n"
   ]
  },
  {
   "cell_type": "code",
   "execution_count": 32,
   "metadata": {},
   "outputs": [
    {
     "name": "stdout",
     "output_type": "stream",
     "text": [
      "Time difference of 0.17 minutes\n",
      "\n",
      "Comparative rmse score for the gradient boosting model when median house value < 500K:  $46,266\n"
     ]
    }
   ],
   "source": [
    "# The following is a score for districts with a median_house_value < 500K.\n",
    "\n",
    "testdat2 = testdat[testdat.median_house_value < 500000].copy()\n",
    "\n",
    "start_time = datetime.now()\n",
    "rmse_score = get_rmse(smp, testdat2)\n",
    "stop_time = datetime.now()\n",
    "delta = stop_time - start_time\n",
    "timeval = round(delta.seconds/60, 2)\n",
    "print(\"Time difference of \" + str(timeval) + \" minutes\")\n",
    "# Time difference of 0.17 minutes\n",
    "\n",
    "print(\"\")\n",
    "print(\"Comparative rmse score for the gradient boosting model when median house value < 500K:  \" + '$' +\n",
    "      f'{rmse_score:,.0f}')\n",
    "\n",
    "# $46,266\n",
    "\n",
    "# The random forest model has a score of 45.3K.\n"
   ]
  },
  {
   "cell_type": "markdown",
   "metadata": {},
   "source": [
    "## Try xgboost package"
   ]
  },
  {
   "cell_type": "markdown",
   "metadata": {},
   "source": [
    "Try first without ocean_proximity."
   ]
  },
  {
   "cell_type": "code",
   "execution_count": 33,
   "metadata": {},
   "outputs": [],
   "source": [
    "import xgboost as xgb\n"
   ]
  },
  {
   "cell_type": "code",
   "execution_count": 37,
   "metadata": {},
   "outputs": [],
   "source": [
    "X_train_8preds = X_train[['median_income','long_transf','latitude',\n",
    "                          'pop_per_hh','HHdens_ln','housing_median_age',\n",
    "                          'total_rooms','bdrms_per_room']].copy()\n",
    "\n",
    "X_test_8preds = X_test[['median_income','long_transf','latitude',\n",
    "                        'pop_per_hh','HHdens_ln','housing_median_age',\n",
    "                        'total_rooms','bdrms_per_room']].copy()\n"
   ]
  },
  {
   "cell_type": "code",
   "execution_count": 36,
   "metadata": {},
   "outputs": [],
   "source": [
    "# Testing shows that the gamma parameter is not being used here.\n",
    "\n",
    "params = {'booster': 'gbtree', 'max_depth': 6, 'learning_rate': 0.3,\n",
    "          'objective': 'reg:squarederror', 'eval_metric': 'rmse',\n",
    "          'gamma': 1}\n"
   ]
  },
  {
   "cell_type": "code",
   "execution_count": 38,
   "metadata": {},
   "outputs": [],
   "source": [
    "dtrain = xgb.DMatrix(X_train_8preds, label= y_train)\n",
    "\n",
    "dtest = xgb.DMatrix(X_test_8preds, label= y_test)\n"
   ]
  },
  {
   "cell_type": "code",
   "execution_count": 53,
   "metadata": {},
   "outputs": [],
   "source": [
    "bst = xgb.cv(params, dtrain, num_boost_round=40, nfold=10,\n",
    "             metrics= ['rmse'], early_stopping_rounds= 3)\n"
   ]
  },
  {
   "cell_type": "code",
   "execution_count": 54,
   "metadata": {},
   "outputs": [
    {
     "data": {
      "text/html": [
       "<div>\n",
       "<style scoped>\n",
       "    .dataframe tbody tr th:only-of-type {\n",
       "        vertical-align: middle;\n",
       "    }\n",
       "\n",
       "    .dataframe tbody tr th {\n",
       "        vertical-align: top;\n",
       "    }\n",
       "\n",
       "    .dataframe thead th {\n",
       "        text-align: right;\n",
       "    }\n",
       "</style>\n",
       "<table border=\"1\" class=\"dataframe\">\n",
       "  <thead>\n",
       "    <tr style=\"text-align: right;\">\n",
       "      <th></th>\n",
       "      <th>train-rmse-mean</th>\n",
       "      <th>train-rmse-std</th>\n",
       "      <th>test-rmse-mean</th>\n",
       "      <th>test-rmse-std</th>\n",
       "    </tr>\n",
       "  </thead>\n",
       "  <tbody>\n",
       "    <tr>\n",
       "      <th>35</th>\n",
       "      <td>42308.0</td>\n",
       "      <td>443.0</td>\n",
       "      <td>57942.0</td>\n",
       "      <td>2396.0</td>\n",
       "    </tr>\n",
       "    <tr>\n",
       "      <th>36</th>\n",
       "      <td>42005.0</td>\n",
       "      <td>391.0</td>\n",
       "      <td>57962.0</td>\n",
       "      <td>2363.0</td>\n",
       "    </tr>\n",
       "    <tr>\n",
       "      <th>37</th>\n",
       "      <td>41743.0</td>\n",
       "      <td>342.0</td>\n",
       "      <td>57908.0</td>\n",
       "      <td>2386.0</td>\n",
       "    </tr>\n",
       "    <tr>\n",
       "      <th>38</th>\n",
       "      <td>41466.0</td>\n",
       "      <td>361.0</td>\n",
       "      <td>57892.0</td>\n",
       "      <td>2404.0</td>\n",
       "    </tr>\n",
       "    <tr>\n",
       "      <th>39</th>\n",
       "      <td>41175.0</td>\n",
       "      <td>480.0</td>\n",
       "      <td>57881.0</td>\n",
       "      <td>2376.0</td>\n",
       "    </tr>\n",
       "  </tbody>\n",
       "</table>\n",
       "</div>"
      ],
      "text/plain": [
       "    train-rmse-mean  train-rmse-std  test-rmse-mean  test-rmse-std\n",
       "35          42308.0           443.0         57942.0         2396.0\n",
       "36          42005.0           391.0         57962.0         2363.0\n",
       "37          41743.0           342.0         57908.0         2386.0\n",
       "38          41466.0           361.0         57892.0         2404.0\n",
       "39          41175.0           480.0         57881.0         2376.0"
      ]
     },
     "execution_count": 54,
     "metadata": {},
     "output_type": "execute_result"
    }
   ],
   "source": [
    "bst.tail().round()\n"
   ]
  },
  {
   "cell_type": "code",
   "execution_count": 56,
   "metadata": {},
   "outputs": [
    {
     "data": {
      "text/html": [
       "<div>\n",
       "<style scoped>\n",
       "    .dataframe tbody tr th:only-of-type {\n",
       "        vertical-align: middle;\n",
       "    }\n",
       "\n",
       "    .dataframe tbody tr th {\n",
       "        vertical-align: top;\n",
       "    }\n",
       "\n",
       "    .dataframe thead th {\n",
       "        text-align: right;\n",
       "    }\n",
       "</style>\n",
       "<table border=\"1\" class=\"dataframe\">\n",
       "  <thead>\n",
       "    <tr style=\"text-align: right;\">\n",
       "      <th></th>\n",
       "      <th>train-rmse-mean</th>\n",
       "      <th>train-rmse-std</th>\n",
       "      <th>test-rmse-mean</th>\n",
       "      <th>test-rmse-std</th>\n",
       "    </tr>\n",
       "  </thead>\n",
       "  <tbody>\n",
       "    <tr>\n",
       "      <th>35</th>\n",
       "      <td>43680.0</td>\n",
       "      <td>301.0</td>\n",
       "      <td>57868.0</td>\n",
       "      <td>2195.0</td>\n",
       "    </tr>\n",
       "    <tr>\n",
       "      <th>36</th>\n",
       "      <td>43425.0</td>\n",
       "      <td>272.0</td>\n",
       "      <td>57854.0</td>\n",
       "      <td>2200.0</td>\n",
       "    </tr>\n",
       "    <tr>\n",
       "      <th>37</th>\n",
       "      <td>43193.0</td>\n",
       "      <td>283.0</td>\n",
       "      <td>57870.0</td>\n",
       "      <td>2197.0</td>\n",
       "    </tr>\n",
       "    <tr>\n",
       "      <th>38</th>\n",
       "      <td>42956.0</td>\n",
       "      <td>267.0</td>\n",
       "      <td>57839.0</td>\n",
       "      <td>2164.0</td>\n",
       "    </tr>\n",
       "    <tr>\n",
       "      <th>39</th>\n",
       "      <td>42707.0</td>\n",
       "      <td>257.0</td>\n",
       "      <td>57809.0</td>\n",
       "      <td>2114.0</td>\n",
       "    </tr>\n",
       "  </tbody>\n",
       "</table>\n",
       "</div>"
      ],
      "text/plain": [
       "    train-rmse-mean  train-rmse-std  test-rmse-mean  test-rmse-std\n",
       "35          43680.0           301.0         57868.0         2195.0\n",
       "36          43425.0           272.0         57854.0         2200.0\n",
       "37          43193.0           283.0         57870.0         2197.0\n",
       "38          42956.0           267.0         57839.0         2164.0\n",
       "39          42707.0           257.0         57809.0         2114.0"
      ]
     },
     "execution_count": 56,
     "metadata": {},
     "output_type": "execute_result"
    }
   ],
   "source": [
    "# Change the parameters.\n",
    "\n",
    "params = {'booster': 'gbtree', 'max_depth': 6, 'learning_rate': 0.25,\n",
    "          'objective': 'reg:squarederror', 'eval_metric': 'rmse'}\n",
    "\n",
    "bst = xgb.cv(params, dtrain, num_boost_round=40, nfold=10,\n",
    "             metrics= ['rmse'], early_stopping_rounds= 3)\n",
    "\n",
    "bst.tail().round()\n"
   ]
  },
  {
   "cell_type": "code",
   "execution_count": 58,
   "metadata": {},
   "outputs": [
    {
     "data": {
      "text/html": [
       "<div>\n",
       "<style scoped>\n",
       "    .dataframe tbody tr th:only-of-type {\n",
       "        vertical-align: middle;\n",
       "    }\n",
       "\n",
       "    .dataframe tbody tr th {\n",
       "        vertical-align: top;\n",
       "    }\n",
       "\n",
       "    .dataframe thead th {\n",
       "        text-align: right;\n",
       "    }\n",
       "</style>\n",
       "<table border=\"1\" class=\"dataframe\">\n",
       "  <thead>\n",
       "    <tr style=\"text-align: right;\">\n",
       "      <th></th>\n",
       "      <th>train-rmse-mean</th>\n",
       "      <th>train-rmse-std</th>\n",
       "      <th>test-rmse-mean</th>\n",
       "      <th>test-rmse-std</th>\n",
       "    </tr>\n",
       "  </thead>\n",
       "  <tbody>\n",
       "    <tr>\n",
       "      <th>35</th>\n",
       "      <td>45377.0</td>\n",
       "      <td>298.0</td>\n",
       "      <td>57346.0</td>\n",
       "      <td>2273.0</td>\n",
       "    </tr>\n",
       "    <tr>\n",
       "      <th>36</th>\n",
       "      <td>45126.0</td>\n",
       "      <td>327.0</td>\n",
       "      <td>57276.0</td>\n",
       "      <td>2339.0</td>\n",
       "    </tr>\n",
       "    <tr>\n",
       "      <th>37</th>\n",
       "      <td>44920.0</td>\n",
       "      <td>361.0</td>\n",
       "      <td>57232.0</td>\n",
       "      <td>2338.0</td>\n",
       "    </tr>\n",
       "    <tr>\n",
       "      <th>38</th>\n",
       "      <td>44752.0</td>\n",
       "      <td>368.0</td>\n",
       "      <td>57229.0</td>\n",
       "      <td>2339.0</td>\n",
       "    </tr>\n",
       "    <tr>\n",
       "      <th>39</th>\n",
       "      <td>44511.0</td>\n",
       "      <td>360.0</td>\n",
       "      <td>57170.0</td>\n",
       "      <td>2313.0</td>\n",
       "    </tr>\n",
       "  </tbody>\n",
       "</table>\n",
       "</div>"
      ],
      "text/plain": [
       "    train-rmse-mean  train-rmse-std  test-rmse-mean  test-rmse-std\n",
       "35          45377.0           298.0         57346.0         2273.0\n",
       "36          45126.0           327.0         57276.0         2339.0\n",
       "37          44920.0           361.0         57232.0         2338.0\n",
       "38          44752.0           368.0         57229.0         2339.0\n",
       "39          44511.0           360.0         57170.0         2313.0"
      ]
     },
     "execution_count": 58,
     "metadata": {},
     "output_type": "execute_result"
    }
   ],
   "source": [
    "# Change the parameters.\n",
    "\n",
    "params = {'booster': 'gbtree', 'max_depth': 6, 'learning_rate': 0.20,\n",
    "          'objective': 'reg:squarederror', 'eval_metric': 'rmse'}\n",
    "\n",
    "bst = xgb.cv(params, dtrain, num_boost_round=40, nfold=10,\n",
    "             metrics= ['rmse'], early_stopping_rounds= 3)\n",
    "\n",
    "bst.tail().round()\n"
   ]
  },
  {
   "cell_type": "code",
   "execution_count": 67,
   "metadata": {},
   "outputs": [
    {
     "data": {
      "text/html": [
       "<div>\n",
       "<style scoped>\n",
       "    .dataframe tbody tr th:only-of-type {\n",
       "        vertical-align: middle;\n",
       "    }\n",
       "\n",
       "    .dataframe tbody tr th {\n",
       "        vertical-align: top;\n",
       "    }\n",
       "\n",
       "    .dataframe thead th {\n",
       "        text-align: right;\n",
       "    }\n",
       "</style>\n",
       "<table border=\"1\" class=\"dataframe\">\n",
       "  <thead>\n",
       "    <tr style=\"text-align: right;\">\n",
       "      <th></th>\n",
       "      <th>train-rmse-mean</th>\n",
       "      <th>train-rmse-std</th>\n",
       "      <th>test-rmse-mean</th>\n",
       "      <th>test-rmse-std</th>\n",
       "    </tr>\n",
       "  </thead>\n",
       "  <tbody>\n",
       "    <tr>\n",
       "      <th>35</th>\n",
       "      <td>48536.0</td>\n",
       "      <td>590.0</td>\n",
       "      <td>58370.0</td>\n",
       "      <td>2050.0</td>\n",
       "    </tr>\n",
       "    <tr>\n",
       "      <th>36</th>\n",
       "      <td>48319.0</td>\n",
       "      <td>576.0</td>\n",
       "      <td>58302.0</td>\n",
       "      <td>2042.0</td>\n",
       "    </tr>\n",
       "    <tr>\n",
       "      <th>37</th>\n",
       "      <td>48059.0</td>\n",
       "      <td>558.0</td>\n",
       "      <td>58243.0</td>\n",
       "      <td>2015.0</td>\n",
       "    </tr>\n",
       "    <tr>\n",
       "      <th>38</th>\n",
       "      <td>47823.0</td>\n",
       "      <td>574.0</td>\n",
       "      <td>58185.0</td>\n",
       "      <td>1986.0</td>\n",
       "    </tr>\n",
       "    <tr>\n",
       "      <th>39</th>\n",
       "      <td>47639.0</td>\n",
       "      <td>567.0</td>\n",
       "      <td>58139.0</td>\n",
       "      <td>2003.0</td>\n",
       "    </tr>\n",
       "  </tbody>\n",
       "</table>\n",
       "</div>"
      ],
      "text/plain": [
       "    train-rmse-mean  train-rmse-std  test-rmse-mean  test-rmse-std\n",
       "35          48536.0           590.0         58370.0         2050.0\n",
       "36          48319.0           576.0         58302.0         2042.0\n",
       "37          48059.0           558.0         58243.0         2015.0\n",
       "38          47823.0           574.0         58185.0         1986.0\n",
       "39          47639.0           567.0         58139.0         2003.0"
      ]
     },
     "execution_count": 67,
     "metadata": {},
     "output_type": "execute_result"
    }
   ],
   "source": [
    "# Change the parameters.\n",
    "\n",
    "params = {'booster': 'gbtree', 'max_depth': 5, 'learning_rate': 0.28,\n",
    "          'objective': 'reg:squarederror', 'eval_metric': 'rmse'}\n",
    "\n",
    "bst = xgb.cv(params, dtrain, num_boost_round=40, nfold=10,\n",
    "             metrics= ['rmse'], early_stopping_rounds= 3)\n",
    "\n",
    "bst.tail().round()\n"
   ]
  },
  {
   "cell_type": "code",
   "execution_count": 68,
   "metadata": {},
   "outputs": [
    {
     "data": {
      "text/html": [
       "<div>\n",
       "<style scoped>\n",
       "    .dataframe tbody tr th:only-of-type {\n",
       "        vertical-align: middle;\n",
       "    }\n",
       "\n",
       "    .dataframe tbody tr th {\n",
       "        vertical-align: top;\n",
       "    }\n",
       "\n",
       "    .dataframe thead th {\n",
       "        text-align: right;\n",
       "    }\n",
       "</style>\n",
       "<table border=\"1\" class=\"dataframe\">\n",
       "  <thead>\n",
       "    <tr style=\"text-align: right;\">\n",
       "      <th></th>\n",
       "      <th>train-rmse-mean</th>\n",
       "      <th>train-rmse-std</th>\n",
       "      <th>test-rmse-mean</th>\n",
       "      <th>test-rmse-std</th>\n",
       "    </tr>\n",
       "  </thead>\n",
       "  <tbody>\n",
       "    <tr>\n",
       "      <th>35</th>\n",
       "      <td>39423.0</td>\n",
       "      <td>343.0</td>\n",
       "      <td>56842.0</td>\n",
       "      <td>2111.0</td>\n",
       "    </tr>\n",
       "    <tr>\n",
       "      <th>36</th>\n",
       "      <td>39210.0</td>\n",
       "      <td>351.0</td>\n",
       "      <td>56819.0</td>\n",
       "      <td>2094.0</td>\n",
       "    </tr>\n",
       "    <tr>\n",
       "      <th>37</th>\n",
       "      <td>38866.0</td>\n",
       "      <td>349.0</td>\n",
       "      <td>56778.0</td>\n",
       "      <td>2133.0</td>\n",
       "    </tr>\n",
       "    <tr>\n",
       "      <th>38</th>\n",
       "      <td>38592.0</td>\n",
       "      <td>369.0</td>\n",
       "      <td>56744.0</td>\n",
       "      <td>2183.0</td>\n",
       "    </tr>\n",
       "    <tr>\n",
       "      <th>39</th>\n",
       "      <td>38341.0</td>\n",
       "      <td>337.0</td>\n",
       "      <td>56675.0</td>\n",
       "      <td>2148.0</td>\n",
       "    </tr>\n",
       "  </tbody>\n",
       "</table>\n",
       "</div>"
      ],
      "text/plain": [
       "    train-rmse-mean  train-rmse-std  test-rmse-mean  test-rmse-std\n",
       "35          39423.0           343.0         56842.0         2111.0\n",
       "36          39210.0           351.0         56819.0         2094.0\n",
       "37          38866.0           349.0         56778.0         2133.0\n",
       "38          38592.0           369.0         56744.0         2183.0\n",
       "39          38341.0           337.0         56675.0         2148.0"
      ]
     },
     "execution_count": 68,
     "metadata": {},
     "output_type": "execute_result"
    }
   ],
   "source": [
    "# Change the parameters.\n",
    "\n",
    "params = {'booster': 'gbtree', 'max_depth': 7, 'learning_rate': 0.20,\n",
    "          'objective': 'reg:squarederror', 'eval_metric': 'rmse'}\n",
    "\n",
    "bst = xgb.cv(params, dtrain, num_boost_round=40, nfold=10,\n",
    "             metrics= ['rmse'], early_stopping_rounds= 3)\n",
    "\n",
    "bst.tail().round()\n"
   ]
  },
  {
   "cell_type": "code",
   "execution_count": 69,
   "metadata": {},
   "outputs": [
    {
     "data": {
      "text/html": [
       "<div>\n",
       "<style scoped>\n",
       "    .dataframe tbody tr th:only-of-type {\n",
       "        vertical-align: middle;\n",
       "    }\n",
       "\n",
       "    .dataframe tbody tr th {\n",
       "        vertical-align: top;\n",
       "    }\n",
       "\n",
       "    .dataframe thead th {\n",
       "        text-align: right;\n",
       "    }\n",
       "</style>\n",
       "<table border=\"1\" class=\"dataframe\">\n",
       "  <thead>\n",
       "    <tr style=\"text-align: right;\">\n",
       "      <th></th>\n",
       "      <th>train-rmse-mean</th>\n",
       "      <th>train-rmse-std</th>\n",
       "      <th>test-rmse-mean</th>\n",
       "      <th>test-rmse-std</th>\n",
       "    </tr>\n",
       "  </thead>\n",
       "  <tbody>\n",
       "    <tr>\n",
       "      <th>35</th>\n",
       "      <td>33252.0</td>\n",
       "      <td>396.0</td>\n",
       "      <td>56509.0</td>\n",
       "      <td>2168.0</td>\n",
       "    </tr>\n",
       "    <tr>\n",
       "      <th>36</th>\n",
       "      <td>32964.0</td>\n",
       "      <td>418.0</td>\n",
       "      <td>56498.0</td>\n",
       "      <td>2184.0</td>\n",
       "    </tr>\n",
       "    <tr>\n",
       "      <th>37</th>\n",
       "      <td>32640.0</td>\n",
       "      <td>376.0</td>\n",
       "      <td>56446.0</td>\n",
       "      <td>2202.0</td>\n",
       "    </tr>\n",
       "    <tr>\n",
       "      <th>38</th>\n",
       "      <td>32297.0</td>\n",
       "      <td>395.0</td>\n",
       "      <td>56399.0</td>\n",
       "      <td>2202.0</td>\n",
       "    </tr>\n",
       "    <tr>\n",
       "      <th>39</th>\n",
       "      <td>31973.0</td>\n",
       "      <td>398.0</td>\n",
       "      <td>56392.0</td>\n",
       "      <td>2213.0</td>\n",
       "    </tr>\n",
       "  </tbody>\n",
       "</table>\n",
       "</div>"
      ],
      "text/plain": [
       "    train-rmse-mean  train-rmse-std  test-rmse-mean  test-rmse-std\n",
       "35          33252.0           396.0         56509.0         2168.0\n",
       "36          32964.0           418.0         56498.0         2184.0\n",
       "37          32640.0           376.0         56446.0         2202.0\n",
       "38          32297.0           395.0         56399.0         2202.0\n",
       "39          31973.0           398.0         56392.0         2213.0"
      ]
     },
     "execution_count": 69,
     "metadata": {},
     "output_type": "execute_result"
    }
   ],
   "source": [
    "# Change the parameters.\n",
    "\n",
    "params = {'booster': 'gbtree', 'max_depth': 8, 'learning_rate': 0.20,\n",
    "          'objective': 'reg:squarederror', 'eval_metric': 'rmse'}\n",
    "\n",
    "bst = xgb.cv(params, dtrain, num_boost_round=40, nfold=10,\n",
    "             metrics= ['rmse'], early_stopping_rounds= 3)\n",
    "\n",
    "bst.tail().round()\n"
   ]
  },
  {
   "cell_type": "code",
   "execution_count": 70,
   "metadata": {},
   "outputs": [
    {
     "data": {
      "text/html": [
       "<div>\n",
       "<style scoped>\n",
       "    .dataframe tbody tr th:only-of-type {\n",
       "        vertical-align: middle;\n",
       "    }\n",
       "\n",
       "    .dataframe tbody tr th {\n",
       "        vertical-align: top;\n",
       "    }\n",
       "\n",
       "    .dataframe thead th {\n",
       "        text-align: right;\n",
       "    }\n",
       "</style>\n",
       "<table border=\"1\" class=\"dataframe\">\n",
       "  <thead>\n",
       "    <tr style=\"text-align: right;\">\n",
       "      <th></th>\n",
       "      <th>train-rmse-mean</th>\n",
       "      <th>train-rmse-std</th>\n",
       "      <th>test-rmse-mean</th>\n",
       "      <th>test-rmse-std</th>\n",
       "    </tr>\n",
       "  </thead>\n",
       "  <tbody>\n",
       "    <tr>\n",
       "      <th>35</th>\n",
       "      <td>36054.0</td>\n",
       "      <td>273.0</td>\n",
       "      <td>56535.0</td>\n",
       "      <td>2259.0</td>\n",
       "    </tr>\n",
       "    <tr>\n",
       "      <th>36</th>\n",
       "      <td>35755.0</td>\n",
       "      <td>249.0</td>\n",
       "      <td>56506.0</td>\n",
       "      <td>2233.0</td>\n",
       "    </tr>\n",
       "    <tr>\n",
       "      <th>37</th>\n",
       "      <td>35538.0</td>\n",
       "      <td>285.0</td>\n",
       "      <td>56471.0</td>\n",
       "      <td>2252.0</td>\n",
       "    </tr>\n",
       "    <tr>\n",
       "      <th>38</th>\n",
       "      <td>35249.0</td>\n",
       "      <td>419.0</td>\n",
       "      <td>56425.0</td>\n",
       "      <td>2299.0</td>\n",
       "    </tr>\n",
       "    <tr>\n",
       "      <th>39</th>\n",
       "      <td>35024.0</td>\n",
       "      <td>390.0</td>\n",
       "      <td>56387.0</td>\n",
       "      <td>2263.0</td>\n",
       "    </tr>\n",
       "  </tbody>\n",
       "</table>\n",
       "</div>"
      ],
      "text/plain": [
       "    train-rmse-mean  train-rmse-std  test-rmse-mean  test-rmse-std\n",
       "35          36054.0           273.0         56535.0         2259.0\n",
       "36          35755.0           249.0         56506.0         2233.0\n",
       "37          35538.0           285.0         56471.0         2252.0\n",
       "38          35249.0           419.0         56425.0         2299.0\n",
       "39          35024.0           390.0         56387.0         2263.0"
      ]
     },
     "execution_count": 70,
     "metadata": {},
     "output_type": "execute_result"
    }
   ],
   "source": [
    "# Change the parameters.\n",
    "\n",
    "params = {'booster': 'gbtree', 'max_depth': 8, 'learning_rate': 0.15,\n",
    "          'objective': 'reg:squarederror', 'eval_metric': 'rmse'}\n",
    "\n",
    "bst = xgb.cv(params, dtrain, num_boost_round=40, nfold=10,\n",
    "             metrics= ['rmse'], early_stopping_rounds= 3)\n",
    "\n",
    "bst.tail().round()\n"
   ]
  },
  {
   "cell_type": "code",
   "execution_count": 71,
   "metadata": {},
   "outputs": [
    {
     "data": {
      "text/html": [
       "<div>\n",
       "<style scoped>\n",
       "    .dataframe tbody tr th:only-of-type {\n",
       "        vertical-align: middle;\n",
       "    }\n",
       "\n",
       "    .dataframe tbody tr th {\n",
       "        vertical-align: top;\n",
       "    }\n",
       "\n",
       "    .dataframe thead th {\n",
       "        text-align: right;\n",
       "    }\n",
       "</style>\n",
       "<table border=\"1\" class=\"dataframe\">\n",
       "  <thead>\n",
       "    <tr style=\"text-align: right;\">\n",
       "      <th></th>\n",
       "      <th>train-rmse-mean</th>\n",
       "      <th>train-rmse-std</th>\n",
       "      <th>test-rmse-mean</th>\n",
       "      <th>test-rmse-std</th>\n",
       "    </tr>\n",
       "  </thead>\n",
       "  <tbody>\n",
       "    <tr>\n",
       "      <th>35</th>\n",
       "      <td>30189.0</td>\n",
       "      <td>366.0</td>\n",
       "      <td>56769.0</td>\n",
       "      <td>2107.0</td>\n",
       "    </tr>\n",
       "    <tr>\n",
       "      <th>36</th>\n",
       "      <td>29867.0</td>\n",
       "      <td>408.0</td>\n",
       "      <td>56739.0</td>\n",
       "      <td>2082.0</td>\n",
       "    </tr>\n",
       "    <tr>\n",
       "      <th>37</th>\n",
       "      <td>29581.0</td>\n",
       "      <td>447.0</td>\n",
       "      <td>56706.0</td>\n",
       "      <td>2098.0</td>\n",
       "    </tr>\n",
       "    <tr>\n",
       "      <th>38</th>\n",
       "      <td>29367.0</td>\n",
       "      <td>483.0</td>\n",
       "      <td>56673.0</td>\n",
       "      <td>2077.0</td>\n",
       "    </tr>\n",
       "    <tr>\n",
       "      <th>39</th>\n",
       "      <td>29062.0</td>\n",
       "      <td>468.0</td>\n",
       "      <td>56666.0</td>\n",
       "      <td>2038.0</td>\n",
       "    </tr>\n",
       "  </tbody>\n",
       "</table>\n",
       "</div>"
      ],
      "text/plain": [
       "    train-rmse-mean  train-rmse-std  test-rmse-mean  test-rmse-std\n",
       "35          30189.0           366.0         56769.0         2107.0\n",
       "36          29867.0           408.0         56739.0         2082.0\n",
       "37          29581.0           447.0         56706.0         2098.0\n",
       "38          29367.0           483.0         56673.0         2077.0\n",
       "39          29062.0           468.0         56666.0         2038.0"
      ]
     },
     "execution_count": 71,
     "metadata": {},
     "output_type": "execute_result"
    }
   ],
   "source": [
    "# Change the parameters.\n",
    "\n",
    "params = {'booster': 'gbtree', 'max_depth': 9, 'learning_rate': 0.15,\n",
    "          'objective': 'reg:squarederror', 'eval_metric': 'rmse'}\n",
    "\n",
    "bst = xgb.cv(params, dtrain, num_boost_round=40, nfold=10,\n",
    "             metrics= ['rmse'], early_stopping_rounds= 3)\n",
    "\n",
    "bst.tail().round()\n"
   ]
  },
  {
   "cell_type": "code",
   "execution_count": null,
   "metadata": {},
   "outputs": [],
   "source": [
    "### COMMENTS:\n",
    "\n",
    "# Best parameters thus far: max_depth = 8; eta = 0.15.\n",
    "# And from the following cell, it looks like we can use 60 rounds.\n"
   ]
  },
  {
   "cell_type": "code",
   "execution_count": 73,
   "metadata": {},
   "outputs": [
    {
     "data": {
      "text/html": [
       "<div>\n",
       "<style scoped>\n",
       "    .dataframe tbody tr th:only-of-type {\n",
       "        vertical-align: middle;\n",
       "    }\n",
       "\n",
       "    .dataframe tbody tr th {\n",
       "        vertical-align: top;\n",
       "    }\n",
       "\n",
       "    .dataframe thead th {\n",
       "        text-align: right;\n",
       "    }\n",
       "</style>\n",
       "<table border=\"1\" class=\"dataframe\">\n",
       "  <thead>\n",
       "    <tr style=\"text-align: right;\">\n",
       "      <th></th>\n",
       "      <th>train-rmse-mean</th>\n",
       "      <th>train-rmse-std</th>\n",
       "      <th>test-rmse-mean</th>\n",
       "      <th>test-rmse-std</th>\n",
       "    </tr>\n",
       "  </thead>\n",
       "  <tbody>\n",
       "    <tr>\n",
       "      <th>55</th>\n",
       "      <td>31401.0</td>\n",
       "      <td>475.0</td>\n",
       "      <td>55963.0</td>\n",
       "      <td>2358.0</td>\n",
       "    </tr>\n",
       "    <tr>\n",
       "      <th>56</th>\n",
       "      <td>31219.0</td>\n",
       "      <td>460.0</td>\n",
       "      <td>55929.0</td>\n",
       "      <td>2363.0</td>\n",
       "    </tr>\n",
       "    <tr>\n",
       "      <th>57</th>\n",
       "      <td>31045.0</td>\n",
       "      <td>476.0</td>\n",
       "      <td>55927.0</td>\n",
       "      <td>2372.0</td>\n",
       "    </tr>\n",
       "    <tr>\n",
       "      <th>58</th>\n",
       "      <td>30886.0</td>\n",
       "      <td>438.0</td>\n",
       "      <td>55924.0</td>\n",
       "      <td>2372.0</td>\n",
       "    </tr>\n",
       "    <tr>\n",
       "      <th>59</th>\n",
       "      <td>30709.0</td>\n",
       "      <td>439.0</td>\n",
       "      <td>55924.0</td>\n",
       "      <td>2371.0</td>\n",
       "    </tr>\n",
       "  </tbody>\n",
       "</table>\n",
       "</div>"
      ],
      "text/plain": [
       "    train-rmse-mean  train-rmse-std  test-rmse-mean  test-rmse-std\n",
       "55          31401.0           475.0         55963.0         2358.0\n",
       "56          31219.0           460.0         55929.0         2363.0\n",
       "57          31045.0           476.0         55927.0         2372.0\n",
       "58          30886.0           438.0         55924.0         2372.0\n",
       "59          30709.0           439.0         55924.0         2371.0"
      ]
     },
     "execution_count": 73,
     "metadata": {},
     "output_type": "execute_result"
    }
   ],
   "source": [
    "# Try with 60 rounds.\n",
    "\n",
    "# Change the parameters.\n",
    "\n",
    "params = {'booster': 'gbtree', 'max_depth': 8, 'learning_rate': 0.15,\n",
    "          'objective': 'reg:squarederror', 'eval_metric': 'rmse'}\n",
    "\n",
    "bst = xgb.cv(params, dtrain, num_boost_round=60, nfold=10,\n",
    "             metrics= ['rmse'], early_stopping_rounds= 3)\n",
    "\n",
    "bst.tail().round()\n"
   ]
  },
  {
   "cell_type": "markdown",
   "metadata": {},
   "source": [
    "### Construct xgb model for predictions"
   ]
  },
  {
   "cell_type": "code",
   "execution_count": 76,
   "metadata": {},
   "outputs": [],
   "source": [
    "\n",
    "params = {'booster': 'gbtree', 'max_depth': 8, 'learning_rate': 0.15,\n",
    "          'objective': 'reg:squarederror', 'eval_metric': 'rmse'}\n",
    "\n",
    "bst = xgb.train(params, dtrain, num_boost_round=60)\n",
    "\n",
    "preds = bst.predict(dtest)\n"
   ]
  },
  {
   "cell_type": "code",
   "execution_count": 83,
   "metadata": {},
   "outputs": [
    {
     "name": "stdout",
     "output_type": "stream",
     "text": [
      "52696\n"
     ]
    }
   ],
   "source": [
    "bst_rmse = round(np.power(sum(np.power(preds - np.array(y_test), 2))/len(y_test), 0.5))\n",
    "print(bst_rmse)\n",
    "# 52,696\n"
   ]
  },
  {
   "cell_type": "code",
   "execution_count": 96,
   "metadata": {},
   "outputs": [
    {
     "data": {
      "image/png": "[encoded data removed]",
      "text/plain": [
       "<Figure size 432x288 with 1 Axes>"
      ]
     },
     "metadata": {
      "needs_background": "light"
     },
     "output_type": "display_data"
    }
   ],
   "source": [
    "xgb.plot_importance(bst, importance_type= 'weight', xlabel= 'Weight',\n",
    "                    ylabel= None, title=\"Feature importance in terms of weight\");\n"
   ]
  },
  {
   "cell_type": "code",
   "execution_count": 97,
   "metadata": {},
   "outputs": [
    {
     "data": {
      "image/png": "[encoded data removed]",
      "text/plain": [
       "<Figure size 432x288 with 1 Axes>"
      ]
     },
     "metadata": {
      "needs_background": "light"
     },
     "output_type": "display_data"
    }
   ],
   "source": [
    "xgb.plot_importance(bst, importance_type= 'gain', xlabel=\"Gain\", \n",
    "                    show_values= False, ylabel= None,\n",
    "                    title=\"Feature importance in terms of gain\");\n"
   ]
  },
  {
   "cell_type": "code",
   "execution_count": 84,
   "metadata": {},
   "outputs": [],
   "source": [
    "# Function to obtain comparative rmse scores for our xgb model.\n",
    "\n",
    "def get_xgb_rmse(seedv, dat):\n",
    "    \n",
    "    # dat needs to also have median_house_value as a column.\n",
    "    n_rcds = 1000\n",
    "    seedv_len = len(seedv)\n",
    "    vout = np.zeros(seedv_len)\n",
    "    \n",
    "    for i, seed in enumerate(seedv):\n",
    "        \n",
    "        df = dat.sample(n=n_rcds, replace=False, random_state=seed, axis=0)\n",
    "        y_df = df[\"median_house_value\"].copy()\n",
    "        df.drop([\"median_house_value\"], inplace=True, axis=1)\n",
    "        \n",
    "        df_test = xgb.DMatrix(df, label= y_df)\n",
    "        df_preds = bst.predict(df_test)\n",
    "        vout[i] = round(np.power(sum(np.power(df_preds - np.array(y_df), 2))/len(y_df), 0.5))\n",
    "    \n",
    "    return round(np.mean(vout[i]))\n"
   ]
  },
  {
   "cell_type": "code",
   "execution_count": 85,
   "metadata": {},
   "outputs": [
    {
     "name": "stdout",
     "output_type": "stream",
     "text": [
      "Comparative rmse score for the xgb model:  $49,090\n"
     ]
    }
   ],
   "source": [
    "# The following is a score for all test districts.\n",
    "\n",
    "testdat = X_test_8preds.join(y_test)\n",
    "\n",
    "seed_choices = np.arange(start=1000, stop=21000, dtype=int)\n",
    "np.random.seed(4321)\n",
    "smp = np.random.choice(seed_choices, size=500, replace=False)\n",
    "\n",
    "rmse_score = get_xgb_rmse(smp, testdat)\n",
    "\n",
    "print(\"Comparative rmse score for the xgb model:  \" + '$' +\n",
    "      f'{rmse_score:,.0f}')\n",
    "\n",
    "# $49,090\n",
    "\n",
    "# The previous gradient boosting model has a score of 48.4K.  But \n",
    "# it makes use of the ocean_proximity predictor.\n"
   ]
  },
  {
   "cell_type": "code",
   "execution_count": 86,
   "metadata": {},
   "outputs": [
    {
     "name": "stdout",
     "output_type": "stream",
     "text": [
      "Time difference of 0.02 minutes\n",
      "\n",
      "Comparative rmse score for the xgb model when median house value < 500K:  $45,432\n"
     ]
    }
   ],
   "source": [
    "# The following is a score for districts with a median_house_value < 500K.\n",
    "\n",
    "testdat2 = testdat[testdat.median_house_value < 500000].copy()\n",
    "\n",
    "start_time = datetime.now()\n",
    "rmse_score = get_xgb_rmse(smp, testdat2)\n",
    "stop_time = datetime.now()\n",
    "delta = stop_time - start_time\n",
    "timeval = round(delta.seconds/60, 2)\n",
    "print(\"Time difference of \" + str(timeval) + \" minutes\")\n",
    "# Time difference of 0.02 minutes\n",
    "\n",
    "print(\"\")\n",
    "print(\"Comparative rmse score for the xgb model when median house value < 500K:  \" + '$' +\n",
    "      f'{rmse_score:,.0f}')\n",
    "\n",
    "# $45,432\n",
    "\n",
    "# The previous gradient boosting model has a score of 46.3K.\n"
   ]
  },
  {
   "cell_type": "markdown",
   "metadata": {},
   "source": [
    "## Try xgboost with the ocean_proximity predictor"
   ]
  },
  {
   "cell_type": "markdown",
   "metadata": {},
   "source": [
    "As we see in what follows, the xgboost algorithm gives us a better model when we do *not* include ocean_proximity."
   ]
  },
  {
   "cell_type": "code",
   "execution_count": 98,
   "metadata": {},
   "outputs": [
    {
     "data": {
      "text/plain": [
       "Index(['median_income', 'long_transf', 'latitude', 'pop_per_hh', 'HHdens_ln',\n",
       "       'housing_median_age', 'total_rooms', 'bdrms_per_room',\n",
       "       'ocean_proximity'],\n",
       "      dtype='object')"
      ]
     },
     "execution_count": 98,
     "metadata": {},
     "output_type": "execute_result"
    }
   ],
   "source": [
    "X_train_9preds.columns\n"
   ]
  },
  {
   "cell_type": "code",
   "execution_count": 101,
   "metadata": {},
   "outputs": [
    {
     "data": {
      "text/html": [
       "<div>\n",
       "<style scoped>\n",
       "    .dataframe tbody tr th:only-of-type {\n",
       "        vertical-align: middle;\n",
       "    }\n",
       "\n",
       "    .dataframe tbody tr th {\n",
       "        vertical-align: top;\n",
       "    }\n",
       "\n",
       "    .dataframe thead th {\n",
       "        text-align: right;\n",
       "    }\n",
       "</style>\n",
       "<table border=\"1\" class=\"dataframe\">\n",
       "  <thead>\n",
       "    <tr style=\"text-align: right;\">\n",
       "      <th></th>\n",
       "      <th>INLAND</th>\n",
       "      <th>NEAR BAY</th>\n",
       "      <th>NEAR OCEAN</th>\n",
       "      <th>OCEAN</th>\n",
       "    </tr>\n",
       "  </thead>\n",
       "  <tbody>\n",
       "    <tr>\n",
       "      <th>334</th>\n",
       "      <td>0</td>\n",
       "      <td>1</td>\n",
       "      <td>0</td>\n",
       "      <td>0</td>\n",
       "    </tr>\n",
       "    <tr>\n",
       "      <th>1662</th>\n",
       "      <td>1</td>\n",
       "      <td>0</td>\n",
       "      <td>0</td>\n",
       "      <td>0</td>\n",
       "    </tr>\n",
       "    <tr>\n",
       "      <th>8781</th>\n",
       "      <td>0</td>\n",
       "      <td>0</td>\n",
       "      <td>0</td>\n",
       "      <td>1</td>\n",
       "    </tr>\n",
       "    <tr>\n",
       "      <th>9392</th>\n",
       "      <td>0</td>\n",
       "      <td>1</td>\n",
       "      <td>0</td>\n",
       "      <td>0</td>\n",
       "    </tr>\n",
       "    <tr>\n",
       "      <th>10706</th>\n",
       "      <td>0</td>\n",
       "      <td>0</td>\n",
       "      <td>0</td>\n",
       "      <td>1</td>\n",
       "    </tr>\n",
       "  </tbody>\n",
       "</table>\n",
       "</div>"
      ],
      "text/plain": [
       "       INLAND  NEAR BAY  NEAR OCEAN  OCEAN\n",
       "334         0         1           0      0\n",
       "1662        1         0           0      0\n",
       "8781        0         0           0      1\n",
       "9392        0         1           0      0\n",
       "10706       0         0           0      1"
      ]
     },
     "execution_count": 101,
     "metadata": {},
     "output_type": "execute_result"
    }
   ],
   "source": [
    "# We need to pass an ndarray object to xgb.DMatrix.  So the\n",
    "# categorical variable needs to be converted to dummy variables.\n",
    "\n",
    "dumvars_train = pd.get_dummies(X_train_9preds['ocean_proximity'])\n",
    "dumvars_train.head()\n"
   ]
  },
  {
   "cell_type": "code",
   "execution_count": 102,
   "metadata": {},
   "outputs": [
    {
     "data": {
      "text/plain": [
       "(16482, 12)"
      ]
     },
     "execution_count": 102,
     "metadata": {},
     "output_type": "execute_result"
    }
   ],
   "source": [
    "X_train_xgb = X_train_9preds.join(dumvars_train)\n",
    "X_train_xgb.drop(['ocean_proximity'], axis=1, inplace=True)\n",
    "X_train_xgb.shape\n"
   ]
  },
  {
   "cell_type": "code",
   "execution_count": 119,
   "metadata": {},
   "outputs": [
    {
     "data": {
      "text/plain": [
       "(4121, 12)"
      ]
     },
     "execution_count": 119,
     "metadata": {},
     "output_type": "execute_result"
    }
   ],
   "source": [
    "# Do the same for the test set.\n",
    "\n",
    "dumvars_test = pd.get_dummies(X_test_9preds['ocean_proximity'])\n",
    "X_test_xgb = X_test_9preds.join(dumvars_test)\n",
    "X_test_xgb.drop(['ocean_proximity'], axis=1, inplace=True)\n",
    "X_test_xgb.shape\n"
   ]
  },
  {
   "cell_type": "code",
   "execution_count": 104,
   "metadata": {},
   "outputs": [],
   "source": [
    "dtrain = xgb.DMatrix(X_train_xgb, label= y_train)\n",
    "\n",
    "dtest = xgb.DMatrix(X_test_xgb, label= y_test)\n"
   ]
  },
  {
   "cell_type": "markdown",
   "metadata": {},
   "source": [
    "### Find optimal parameters"
   ]
  },
  {
   "cell_type": "code",
   "execution_count": 106,
   "metadata": {},
   "outputs": [
    {
     "data": {
      "text/html": [
       "<div>\n",
       "<style scoped>\n",
       "    .dataframe tbody tr th:only-of-type {\n",
       "        vertical-align: middle;\n",
       "    }\n",
       "\n",
       "    .dataframe tbody tr th {\n",
       "        vertical-align: top;\n",
       "    }\n",
       "\n",
       "    .dataframe thead th {\n",
       "        text-align: right;\n",
       "    }\n",
       "</style>\n",
       "<table border=\"1\" class=\"dataframe\">\n",
       "  <thead>\n",
       "    <tr style=\"text-align: right;\">\n",
       "      <th></th>\n",
       "      <th>train-rmse-mean</th>\n",
       "      <th>train-rmse-std</th>\n",
       "      <th>test-rmse-mean</th>\n",
       "      <th>test-rmse-std</th>\n",
       "    </tr>\n",
       "  </thead>\n",
       "  <tbody>\n",
       "    <tr>\n",
       "      <th>70</th>\n",
       "      <td>38883.0</td>\n",
       "      <td>424.0</td>\n",
       "      <td>56769.0</td>\n",
       "      <td>1839.0</td>\n",
       "    </tr>\n",
       "    <tr>\n",
       "      <th>71</th>\n",
       "      <td>38725.0</td>\n",
       "      <td>417.0</td>\n",
       "      <td>56775.0</td>\n",
       "      <td>1854.0</td>\n",
       "    </tr>\n",
       "    <tr>\n",
       "      <th>72</th>\n",
       "      <td>38589.0</td>\n",
       "      <td>410.0</td>\n",
       "      <td>56768.0</td>\n",
       "      <td>1872.0</td>\n",
       "    </tr>\n",
       "    <tr>\n",
       "      <th>73</th>\n",
       "      <td>38474.0</td>\n",
       "      <td>411.0</td>\n",
       "      <td>56755.0</td>\n",
       "      <td>1864.0</td>\n",
       "    </tr>\n",
       "    <tr>\n",
       "      <th>74</th>\n",
       "      <td>38340.0</td>\n",
       "      <td>439.0</td>\n",
       "      <td>56754.0</td>\n",
       "      <td>1892.0</td>\n",
       "    </tr>\n",
       "  </tbody>\n",
       "</table>\n",
       "</div>"
      ],
      "text/plain": [
       "    train-rmse-mean  train-rmse-std  test-rmse-mean  test-rmse-std\n",
       "70          38883.0           424.0         56769.0         1839.0\n",
       "71          38725.0           417.0         56775.0         1854.0\n",
       "72          38589.0           410.0         56768.0         1872.0\n",
       "73          38474.0           411.0         56755.0         1864.0\n",
       "74          38340.0           439.0         56754.0         1892.0"
      ]
     },
     "execution_count": 106,
     "metadata": {},
     "output_type": "execute_result"
    }
   ],
   "source": [
    "params = {'booster': 'gbtree', 'max_depth': 6, 'learning_rate': 0.20,\n",
    "          'objective': 'reg:squarederror', 'eval_metric': 'rmse'}\n",
    "\n",
    "bst = xgb.cv(params, dtrain, num_boost_round=80, nfold=10,\n",
    "             metrics= ['rmse'], early_stopping_rounds= 3)\n",
    "\n",
    "bst.tail().round()\n"
   ]
  },
  {
   "cell_type": "code",
   "execution_count": 109,
   "metadata": {},
   "outputs": [
    {
     "data": {
      "text/html": [
       "<div>\n",
       "<style scoped>\n",
       "    .dataframe tbody tr th:only-of-type {\n",
       "        vertical-align: middle;\n",
       "    }\n",
       "\n",
       "    .dataframe tbody tr th {\n",
       "        vertical-align: top;\n",
       "    }\n",
       "\n",
       "    .dataframe thead th {\n",
       "        text-align: right;\n",
       "    }\n",
       "</style>\n",
       "<table border=\"1\" class=\"dataframe\">\n",
       "  <thead>\n",
       "    <tr style=\"text-align: right;\">\n",
       "      <th></th>\n",
       "      <th>train-rmse-mean</th>\n",
       "      <th>train-rmse-std</th>\n",
       "      <th>test-rmse-mean</th>\n",
       "      <th>test-rmse-std</th>\n",
       "    </tr>\n",
       "  </thead>\n",
       "  <tbody>\n",
       "    <tr>\n",
       "      <th>55</th>\n",
       "      <td>35815.0</td>\n",
       "      <td>459.0</td>\n",
       "      <td>56673.0</td>\n",
       "      <td>2423.0</td>\n",
       "    </tr>\n",
       "    <tr>\n",
       "      <th>56</th>\n",
       "      <td>35619.0</td>\n",
       "      <td>445.0</td>\n",
       "      <td>56637.0</td>\n",
       "      <td>2422.0</td>\n",
       "    </tr>\n",
       "    <tr>\n",
       "      <th>57</th>\n",
       "      <td>35462.0</td>\n",
       "      <td>439.0</td>\n",
       "      <td>56631.0</td>\n",
       "      <td>2425.0</td>\n",
       "    </tr>\n",
       "    <tr>\n",
       "      <th>58</th>\n",
       "      <td>35277.0</td>\n",
       "      <td>485.0</td>\n",
       "      <td>56627.0</td>\n",
       "      <td>2431.0</td>\n",
       "    </tr>\n",
       "    <tr>\n",
       "      <th>59</th>\n",
       "      <td>35077.0</td>\n",
       "      <td>496.0</td>\n",
       "      <td>56603.0</td>\n",
       "      <td>2417.0</td>\n",
       "    </tr>\n",
       "  </tbody>\n",
       "</table>\n",
       "</div>"
      ],
      "text/plain": [
       "    train-rmse-mean  train-rmse-std  test-rmse-mean  test-rmse-std\n",
       "55          35815.0           459.0         56673.0         2423.0\n",
       "56          35619.0           445.0         56637.0         2422.0\n",
       "57          35462.0           439.0         56631.0         2425.0\n",
       "58          35277.0           485.0         56627.0         2431.0\n",
       "59          35077.0           496.0         56603.0         2417.0"
      ]
     },
     "execution_count": 109,
     "metadata": {},
     "output_type": "execute_result"
    }
   ],
   "source": [
    "params = {'booster': 'gbtree', 'max_depth': 7, 'learning_rate': 0.18,\n",
    "          'objective': 'reg:squarederror', 'eval_metric': 'rmse'}\n",
    "\n",
    "bst = xgb.cv(params, dtrain, num_boost_round=60, nfold=10,\n",
    "             metrics= ['rmse'], early_stopping_rounds= 3)\n",
    "\n",
    "bst.tail().round()\n"
   ]
  },
  {
   "cell_type": "code",
   "execution_count": 112,
   "metadata": {},
   "outputs": [
    {
     "data": {
      "text/html": [
       "<div>\n",
       "<style scoped>\n",
       "    .dataframe tbody tr th:only-of-type {\n",
       "        vertical-align: middle;\n",
       "    }\n",
       "\n",
       "    .dataframe tbody tr th {\n",
       "        vertical-align: top;\n",
       "    }\n",
       "\n",
       "    .dataframe thead th {\n",
       "        text-align: right;\n",
       "    }\n",
       "</style>\n",
       "<table border=\"1\" class=\"dataframe\">\n",
       "  <thead>\n",
       "    <tr style=\"text-align: right;\">\n",
       "      <th></th>\n",
       "      <th>train-rmse-mean</th>\n",
       "      <th>train-rmse-std</th>\n",
       "      <th>test-rmse-mean</th>\n",
       "      <th>test-rmse-std</th>\n",
       "    </tr>\n",
       "  </thead>\n",
       "  <tbody>\n",
       "    <tr>\n",
       "      <th>43</th>\n",
       "      <td>33683.0</td>\n",
       "      <td>559.0</td>\n",
       "      <td>56431.0</td>\n",
       "      <td>2286.0</td>\n",
       "    </tr>\n",
       "    <tr>\n",
       "      <th>44</th>\n",
       "      <td>33404.0</td>\n",
       "      <td>549.0</td>\n",
       "      <td>56416.0</td>\n",
       "      <td>2248.0</td>\n",
       "    </tr>\n",
       "    <tr>\n",
       "      <th>45</th>\n",
       "      <td>33177.0</td>\n",
       "      <td>569.0</td>\n",
       "      <td>56398.0</td>\n",
       "      <td>2194.0</td>\n",
       "    </tr>\n",
       "    <tr>\n",
       "      <th>46</th>\n",
       "      <td>32921.0</td>\n",
       "      <td>534.0</td>\n",
       "      <td>56350.0</td>\n",
       "      <td>2170.0</td>\n",
       "    </tr>\n",
       "    <tr>\n",
       "      <th>47</th>\n",
       "      <td>32608.0</td>\n",
       "      <td>600.0</td>\n",
       "      <td>56315.0</td>\n",
       "      <td>2190.0</td>\n",
       "    </tr>\n",
       "  </tbody>\n",
       "</table>\n",
       "</div>"
      ],
      "text/plain": [
       "    train-rmse-mean  train-rmse-std  test-rmse-mean  test-rmse-std\n",
       "43          33683.0           559.0         56431.0         2286.0\n",
       "44          33404.0           549.0         56416.0         2248.0\n",
       "45          33177.0           569.0         56398.0         2194.0\n",
       "46          32921.0           534.0         56350.0         2170.0\n",
       "47          32608.0           600.0         56315.0         2190.0"
      ]
     },
     "execution_count": 112,
     "metadata": {},
     "output_type": "execute_result"
    }
   ],
   "source": [
    "params = {'booster': 'gbtree', 'max_depth': 8, 'learning_rate': 0.15,\n",
    "          'objective': 'reg:squarederror', 'eval_metric': 'rmse'}\n",
    "\n",
    "bst = xgb.cv(params, dtrain, num_boost_round=48, nfold=10,\n",
    "             metrics= ['rmse'], early_stopping_rounds= 3)\n",
    "\n",
    "bst.tail().round()\n"
   ]
  },
  {
   "cell_type": "markdown",
   "metadata": {},
   "source": [
    "### Construct xgb model for predictions"
   ]
  },
  {
   "cell_type": "code",
   "execution_count": 113,
   "metadata": {},
   "outputs": [
    {
     "name": "stdout",
     "output_type": "stream",
     "text": [
      "52770\n"
     ]
    }
   ],
   "source": [
    "\n",
    "params = {'booster': 'gbtree', 'max_depth': 8, 'learning_rate': 0.15,\n",
    "          'objective': 'reg:squarederror', 'eval_metric': 'rmse'}\n",
    "\n",
    "bst = xgb.train(params, dtrain, num_boost_round=48)\n",
    "\n",
    "preds = bst.predict(dtest)\n",
    "bst_rmse = round(np.power(sum(np.power(preds - np.array(y_test), 2))/len(y_test), 0.5))\n",
    "print(bst_rmse)\n",
    "# 52,770\n",
    "\n",
    "# The score was a bit lower (52,696) without ocean_proximity.\n"
   ]
  },
  {
   "cell_type": "code",
   "execution_count": 121,
   "metadata": {},
   "outputs": [
    {
     "name": "stdout",
     "output_type": "stream",
     "text": [
      "Comparative rmse score for the xgb model that includes ocean_proximity:  $49,678\n"
     ]
    }
   ],
   "source": [
    "# The following is a score for all test districts.\n",
    "\n",
    "testdat = X_test_xgb.join(y_test)\n",
    "\n",
    "seed_choices = np.arange(start=1000, stop=21000, dtype=int)\n",
    "np.random.seed(4321)\n",
    "smp = np.random.choice(seed_choices, size=500, replace=False)\n",
    "\n",
    "rmse_score = get_xgb_rmse(smp, testdat)\n",
    "\n",
    "print(\"Comparative rmse score for the xgb model that includes ocean_proximity:  \" + '$' +\n",
    "      f'{rmse_score:,.0f}')\n",
    "\n",
    "# $49,678\n",
    "\n",
    "# This score is not as good as the model which does not have ocean_proximity.\n"
   ]
  },
  {
   "cell_type": "code",
   "execution_count": 122,
   "metadata": {},
   "outputs": [
    {
     "name": "stdout",
     "output_type": "stream",
     "text": [
      "Time difference of 0.02 minutes\n",
      "\n",
      "Comparative rmse score for the xgb model when median house value < 500K:  $46,181\n"
     ]
    }
   ],
   "source": [
    "# The following is a score for districts with a median_house_value < 500K.\n",
    "\n",
    "testdat2 = testdat[testdat.median_house_value < 500000].copy()\n",
    "\n",
    "start_time = datetime.now()\n",
    "rmse_score = get_xgb_rmse(smp, testdat2)\n",
    "stop_time = datetime.now()\n",
    "delta = stop_time - start_time\n",
    "timeval = round(delta.seconds/60, 2)\n",
    "print(\"Time difference of \" + str(timeval) + \" minutes\")\n",
    "# Time difference of 0.02 minutes\n",
    "\n",
    "print(\"\")\n",
    "print(\"Comparative rmse score for the xgb model when median house value < 500K:  \" + '$' +\n",
    "      f'{rmse_score:,.0f}')\n",
    "\n",
    "# $46,181\n",
    "\n",
    "# The previous gradient boosting model has a score of 45.4K.\n"
   ]
  },
  {
   "cell_type": "markdown",
   "metadata": {},
   "source": [
    "## Run better model with more rounds"
   ]
  },
  {
   "cell_type": "code",
   "execution_count": 123,
   "metadata": {},
   "outputs": [],
   "source": [
    "dtrain = xgb.DMatrix(X_train_8preds, label= y_train)\n",
    "\n",
    "dtest = xgb.DMatrix(X_test_8preds, label= y_test)\n"
   ]
  },
  {
   "cell_type": "code",
   "execution_count": 132,
   "metadata": {},
   "outputs": [
    {
     "name": "stdout",
     "output_type": "stream",
     "text": [
      "52366\n"
     ]
    }
   ],
   "source": [
    "params = {'booster': 'gbtree', 'max_depth': 8, 'learning_rate': 0.15,\n",
    "          'objective': 'reg:squarederror', 'eval_metric': 'rmse'}\n",
    "\n",
    "bst = xgb.train(params, dtrain, num_boost_round=80)\n",
    "\n",
    "preds = bst.predict(dtest)\n",
    "bst_rmse = round(np.power(sum(np.power(preds - np.array(y_test), 2))/len(y_test), 0.5))\n",
    "print(bst_rmse)\n",
    "# 52,366\n",
    "\n",
    "# This same model at 60 rounds had a score of 52,696\n"
   ]
  },
  {
   "cell_type": "code",
   "execution_count": 133,
   "metadata": {},
   "outputs": [
    {
     "name": "stdout",
     "output_type": "stream",
     "text": [
      "Comparative rmse score for the xgb model with 80 rounds:  $48,548\n"
     ]
    }
   ],
   "source": [
    "# The following is a score for all test districts.\n",
    "\n",
    "testdat = X_test_8preds.join(y_test)\n",
    "\n",
    "seed_choices = np.arange(start=1000, stop=21000, dtype=int)\n",
    "np.random.seed(4321)\n",
    "smp = np.random.choice(seed_choices, size=500, replace=False)\n",
    "\n",
    "rmse_score = get_xgb_rmse(smp, testdat)\n",
    "\n",
    "print(\"Comparative rmse score for the xgb model with 80 rounds:  \" + '$' +\n",
    "      f'{rmse_score:,.0f}')\n",
    "\n",
    "# $48,548\n",
    "\n",
    "# The gradient boosting model that included ocean_proximity has a\n",
    "# score of 48.4K.\n"
   ]
  },
  {
   "cell_type": "code",
   "execution_count": 134,
   "metadata": {},
   "outputs": [
    {
     "name": "stdout",
     "output_type": "stream",
     "text": [
      "Time difference of 0.02 minutes\n",
      "\n",
      "Comparative rmse score for the xgb model with 80 rounds when median house value < 500K:  $45,139\n"
     ]
    }
   ],
   "source": [
    "# The following is a score for districts with a median_house_value < 500K.\n",
    "\n",
    "testdat2 = testdat[testdat.median_house_value < 500000].copy()\n",
    "\n",
    "start_time = datetime.now()\n",
    "rmse_score = get_xgb_rmse(smp, testdat2)\n",
    "stop_time = datetime.now()\n",
    "delta = stop_time - start_time\n",
    "timeval = round(delta.seconds/60, 2)\n",
    "print(\"Time difference of \" + str(timeval) + \" minutes\")\n",
    "# Time difference of 0.02 minutes\n",
    "\n",
    "print(\"\")\n",
    "print(\"Comparative rmse score for the xgb model with 80 rounds when median house value < 500K:  \" + '$' +\n",
    "      f'{rmse_score:,.0f}')\n",
    "\n",
    "# $45,139\n",
    "\n",
    "# The gradient boosting model that included ocean_proximity\n",
    "# has a score of 46.3K.\n"
   ]
  },
  {
   "cell_type": "code",
   "execution_count": null,
   "metadata": {},
   "outputs": [],
   "source": []
  },
  {
   "cell_type": "markdown",
   "metadata": {},
   "source": [
    "## Final comments on gradient boosting"
   ]
  },
  {
   "cell_type": "markdown",
   "metadata": {},
   "source": [
    "Two of the gradient boosting models have near equal performance.  One uses ocean_proximity; the other does not.  I prefer the model with fewer predictors.  Its rmse score is about \\\\$150 more than the gradient boosting model that includes ocean_proximity.  But if we predict only for districts with a median house value < 500K, then the xgb model out-performs its cousin by \\\\$1,200.  Also, the xgboost model is quite a bit faster.\n",
    "\n",
    "There may be other xgboost models that are even better.  I only scratched the surface here.\n",
    "\n",
    "\n",
    "**Gradient boosted regression best score:**  **48.5K**\n"
   ]
  },
  {
   "cell_type": "code",
   "execution_count": null,
   "metadata": {},
   "outputs": [],
   "source": []
  },
  {
   "cell_type": "markdown",
   "metadata": {},
   "source": [
    "## Final comments for Part02"
   ]
  },
  {
   "cell_type": "markdown",
   "metadata": {},
   "source": [
    "From the models surveyed, we obtain the best set of predictions, on average, from an xgboost model.  Recall that the g03 model from Part01 has an rmse score of 75.5K.  By contrast, the xgboost model has a score of 48.5K.  That is almost a 36% reduction in the score.\n",
    "\n",
    "The work involved in producing the g03 model made life significantly easier when surveying the above range of machine learning models, for it provided me with a core set of predictors to focus on.  In the end, I went from using 6 predictors to using 8 of the original 13.  Also, because g03 is a parametric model that can be tuned without relying on cross-validation, I could use it in the Gibbs sampler to impute values for the records with a censored median house value.  \n"
   ]
  },
  {
   "cell_type": "code",
   "execution_count": null,
   "metadata": {},
   "outputs": [],
   "source": []
  }
 ],
 "metadata": {
  "kernelspec": {
   "display_name": "Python 3",
   "language": "python",
   "name": "python3"
  },
  "language_info": {
   "codemirror_mode": {
    "name": "ipython",
    "version": 3
   },
   "file_extension": ".py",
   "mimetype": "text/x-python",
   "name": "python",
   "nbconvert_exporter": "python",
   "pygments_lexer": "ipython3",
   "version": "3.8.3"
  }
 },
 "nbformat": 4,
 "nbformat_minor": 4
}
